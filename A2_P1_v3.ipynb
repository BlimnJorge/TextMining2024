{
 "cells": [
  {
   "cell_type": "markdown",
   "metadata": {
    "id": "tPkSwYPozPFA"
   },
   "source": [
    "# Assignment 2"
   ]
  },
  {
   "cell_type": "markdown",
   "metadata": {},
   "source": [
    "## 1. Loading packages and data"
   ]
  },
  {
   "cell_type": "code",
   "execution_count": 18,
   "metadata": {
    "colab": {
     "base_uri": "https://localhost:8080/"
    },
    "id": "caQEmPP5zPFC",
    "outputId": "d9ce3099-6cf1-4f59-8fac-30d204666679"
   },
   "outputs": [
    {
     "name": "stderr",
     "output_type": "stream",
     "text": [
      "[nltk_data] Downloading package stopwords to\n",
      "[nltk_data]     C:\\Users\\kkasp\\AppData\\Roaming\\nltk_data...\n",
      "[nltk_data]   Package stopwords is already up-to-date!\n",
      "[nltk_data] Downloading package opinion_lexicon to\n",
      "[nltk_data]     C:\\Users\\kkasp\\AppData\\Roaming\\nltk_data...\n",
      "[nltk_data]   Package opinion_lexicon is already up-to-date!\n"
     ]
    }
   ],
   "source": [
    "import pandas as pd\n",
    "from sklearn.model_selection import train_test_split\n",
    "import numpy as np\n",
    "import matplotlib.pyplot as plt\n",
    "import re\n",
    "from nltk.stem import PorterStemmer\n",
    "import nltk\n",
    "from sklearn.preprocessing import StandardScaler\n",
    "from tensorflow.keras.models import Sequential\n",
    "from tensorflow.keras.layers import Dense, Dropout\n",
    "from tensorflow.keras.callbacks import EarlyStopping\n",
    "from gensim.models import Word2Vec\n",
    "\n",
    "nltk.download('stopwords')\n",
    "nltk.download('opinion_lexicon')\n",
    "from nltk.corpus import opinion_lexicon\n",
    "from nltk.corpus import stopwords\n",
    "\n",
    "pd.set_option('display.max_colwidth', None)  # Allows columns to display their full content so we can read the full reviews\n",
    "pd.set_option('display.width', 200) "
   ]
  },
  {
   "cell_type": "code",
   "execution_count": 19,
   "metadata": {
    "colab": {
     "base_uri": "https://localhost:8080/"
    },
    "id": "C-7eMzGqzPFE",
    "outputId": "07466aba-ad07-4261-eff0-38637e574c7d",
    "scrolled": true
   },
   "outputs": [
    {
     "name": "stdout",
     "output_type": "stream",
     "text": [
      "                                                                                                                                                                                                                                                                                                                                                                                                                                                                                                                                                                                                                                                                                                                                                                                                                                                                                                                                                                                                                                                                                                                                                                                                                                                                                                                                                                                                                                                                                                                                                                                                                                                                                                                                                                                                                                                                                                                                                                                                                                                                                                                                                                                                                                                                                                                 review  \\\n",
      "0                                                                                                                                                                                                                                                                                                                                                                                                                                                                                     One of the other reviewers has mentioned that after watching just 1 Oz episode you'll be hooked. They are right, as this is exactly what happened with me.<br /><br />The first thing that struck me about Oz was its brutality and unflinching scenes of violence, which set in right from the word GO. Trust me, this is not a show for the faint hearted or timid. This show pulls no punches with regards to drugs, sex or violence. Its is hardcore, in the classic use of the word.<br /><br />It is called OZ as that is the nickname given to the Oswald Maximum Security State Penitentary. It focuses mainly on Emerald City, an experimental section of the prison where all the cells have glass fronts and face inwards, so privacy is not high on the agenda. Em City is home to many..Aryans, Muslims, gangstas, Latinos, Christians, Italians, Irish and more....so scuffles, death stares, dodgy dealings and shady agreements are never far away.<br /><br />I would say the main appeal of the show is due to the fact that it goes where other shows wouldn't dare. Forget pretty pictures painted for mainstream audiences, forget charm, forget romance...OZ doesn't mess around. The first episode I ever saw struck me as so nasty it was surreal, I couldn't say I was ready for it, but as I watched more, I developed a taste for Oz, and got accustomed to the high levels of graphic violence. Not just violence, but injustice (crooked guards who'll be sold out for a nickel, inmates who'll kill on order and get away with it, well mannered, middle class inmates being turned into prison bitches due to their lack of street skills or prison experience) Watching Oz, you may become comfortable with what is uncomfortable viewing....thats if you can get in touch with your darker side.   \n",
      "1                                                                                                                                                                                                                                                                                                                                                                                                                                                                                                                                                                                                                                                                                                                                                                                                                                                                                                                                                                                                                                                                                                                                                                                                                                                                                A wonderful little production. <br /><br />The filming technique is very unassuming- very old-time-BBC fashion and gives a comforting, and sometimes discomforting, sense of realism to the entire piece. <br /><br />The actors are extremely well chosen- Michael Sheen not only \"has got all the polari\" but he has all the voices down pat too! You can truly see the seamless editing guided by the references to Williams' diary entries, not only is it well worth the watching but it is a terrificly written and performed piece. A masterful production about one of the great master's of comedy and his life. <br /><br />The realism really comes home with the little things: the fantasy of the guard which, rather than use the traditional 'dream' techniques remains solid then disappears. It plays on our knowledge and our senses, particularly with the scenes concerning Orton and Halliwell and the sets (particularly of their flat with Halliwell's murals decorating every surface) are terribly well done.   \n",
      "2                                                                                                                                                                                                                                                                                                                                                                                                                                                                                                                                                                                                                                                                                                                                                                                                                                                                                                                                                                                                                                                                                                                                                                                                                                                                                                                                                        I thought this was a wonderful way to spend time on a too hot summer weekend, sitting in the air conditioned theater and watching a light-hearted comedy. The plot is simplistic, but the dialogue is witty and the characters are likable (even the well bread suspected serial killer). While some may be disappointed when they realize this is not Match Point 2: Risk Addiction, I thought it was proof that Woody Allen is still fully in control of the style many of us have grown to love.<br /><br />This was the most I'd laughed at one of Woody's comedies in years (dare I say a decade?). While I've never been impressed with Scarlet Johanson, in this she managed to tone down her \"sexy\" image and jumped right into a average, but spirited young woman.<br /><br />This may not be the crown jewel of his career, but it was wittier than \"Devil Wears Prada\" and more interesting than \"Superman\" a great comedy to go see with friends.   \n",
      "3                                                                                                                                                                                                                                                                                                                                                                                                                                                                                                                                                                                                                                                                                                                                                                                                                                                                                                                                                                                                                                                                                                                                                                                                                                                                                                                                                                                                                                                                                                                                          Basically there's a family where a little boy (Jake) thinks there's a zombie in his closet & his parents are fighting all the time.<br /><br />This movie is slower than a soap opera... and suddenly, Jake decides to become Rambo and kill the zombie.<br /><br />OK, first of all when you're going to make a film you must Decide if its a thriller or a drama! As a drama the movie is watchable. Parents are divorcing & arguing like in real life. And then we have Jake with his closet which totally ruins all the film! I expected to see a BOOGEYMAN similar movie, and instead i watched a drama with some meaningless thriller spots.<br /><br />3 out of 10 just for the well playing parents & descent dialogs. As for the shots with Jake: just ignore them.   \n",
      "4                                                                                                                                                                                                                                                                                                                                                                                                                                                                                                                                                                                                                                                                                                                                                                                                                                                                                                                                                 Petter Mattei's \"Love in the Time of Money\" is a visually stunning film to watch. Mr. Mattei offers us a vivid portrait about human relations. This is a movie that seems to be telling us what money, power and success do to people in the different situations we encounter. <br /><br />This being a variation on the Arthur Schnitzler's play about the same theme, the director transfers the action to the present time New York where all these different characters meet and connect. Each one is connected in one way, or another to the next person, but no one seems to know the previous point of contact. Stylishly, the film has a sophisticated luxurious look. We are taken to see how these people live and the world they live in their own habitat.<br /><br />The only thing one gets out of all these souls in the picture is the different stages of loneliness each one inhabits. A big city is not exactly the best place in which human relations find sincere fulfillment, as one discerns is the case with most of the people we encounter.<br /><br />The acting is good under Mr. Mattei's direction. Steve Buscemi, Rosario Dawson, Carol Kane, Michael Imperioli, Adrian Grenier, and the rest of the talented cast, make these characters come alive.<br /><br />We wish Mr. Mattei good luck and await anxiously for his next work.   \n",
      "5                                                                                                                                                                                                                                                                                                                                                                                                                                                                                                                                                                                                                                                                                                                                                                                                                                                                                                                                                                                                                                                                                                                                                                                                                                                                                                                                                                                                                                                                                                                                                                                                                                      Probably my all-time favorite movie, a story of selflessness, sacrifice and dedication to a noble cause, but it's not preachy or boring. It just never gets old, despite my having seen it some 15 or more times in the last 25 years. Paul Lukas' performance brings tears to my eyes, and Bette Davis, in one of her very few truly sympathetic roles, is a delight. The kids are, as grandma says, more like \"dressed-up midgets\" than children, but that only makes them more fun to watch. And the mother's slow awakening to what's happening in the world and under her own roof is believable and startling. If I had a dozen thumbs, they'd all be \"up\" for this movie.   \n",
      "6                                                                                                                                                                                                                                                                                                                                                                                                                                                                                                                                                                                                                                                                                                                                                                                                                                                                                                                                                                                                                                                                                                                                                                                                                                                                                                                                                                                                                                                                                                                                                                I sure would like to see a resurrection of a up dated Seahunt series with the tech they have today it would bring back the kid excitement in me.I grew up on black and white TV and Seahunt with Gunsmoke were my hero's every week.You have my vote for a comeback of a new sea hunt.We need a change of pace in TV and this would work for a world of under water adventure.Oh by the way thank you for an outlet like this to view many viewpoints about TV and the many movies.So any ole way I believe I've got what I wanna say.Would be nice to read some more plus points about sea hunt.If my rhymes would be 10 lines would you let me submit,or leave me out to be in doubt and have me to quit,If this is so then I must go so lets do it.   \n",
      "7                                                                                                                                                                                                                                                                                                                                                                                                                                                                                                                                                                                                                                                                                                                                                                                                                                                                                                                                                                                                                                                                                                                                                                                                                                                                                                                                                This show was an amazing, fresh & innovative idea in the 70's when it first aired. The first 7 or 8 years were brilliant, but things dropped off after that. By 1990, the show was not really funny anymore, and it's continued its decline further to the complete waste of time it is today.<br /><br />It's truly disgraceful how far this show has fallen. The writing is painfully bad, the performances are almost as bad - if not for the mildly entertaining respite of the guest-hosts, this show probably wouldn't still be on the air. I find it so hard to believe that the same creator that hand-selected the original cast also chose the band of hacks that followed. How can one recognize such brilliance and then see fit to replace it with such mediocrity? I felt I must give 2 stars out of respect for the original cast that made this show such a huge success. As it is now, the show is just awful. I can't believe it's still on the air.   \n",
      "8                                                                                                                                                                                                                                                                                                                                                                                                                                                                                                                                                                                                                                                                                                                                                                                                                                                                                                                                                                                                                                                                                                                                                                                                                                                                                                                                                                                                                                                                                                                                                                                                             Encouraged by the positive comments about this film on here I was looking forward to watching this film. Bad mistake. I've seen 950+ films and this is truly one of the worst of them - it's awful in almost every way: editing, pacing, storyline, 'acting,' soundtrack (the film's only song - a lame country tune - is played no less than four times). The film looks cheap and nasty and is boring in the extreme. Rarely have I been so happy to see the end credits of a film. <br /><br />The only thing that prevents me giving this a 1-score is Harvey Keitel - while this is far from his best performance he at least seems to be making a bit of an effort. One for Keitel obsessives only.   \n",
      "9                                                                                                                                                                                                                                                                                                                                                                                                                                                                                                                                                                                                                                                                                                                                                                                                                                                                                                                                                                                                                                                                                                                                                                                                                                                                                                                                                                                                                                                                                                                                                                                                                                                                                                                                                                                                                                                                                                                                                                                                                                                                                                                                      If you like original gut wrenching laughter you will like this movie. If you are young or old then you will love this movie, hell even my mom liked it.<br /><br />Great Camp!!!   \n",
      "10                                                                                                                                                                                                                                                                                                                                                                                                                                                                                                                                                                                                                                                                                                                                                                                                                                                                                                                                                                                                                                                                                                                                                                                                                                                                                                                                                                                                                                                                                                                                                                                                                                                                                                                   Phil the Alien is one of those quirky films where the humour is based around the oddness of everything rather than actual punchlines.<br /><br />At first it was very odd and pretty funny but as the movie progressed I didn't find the jokes or oddness funny anymore.<br /><br />Its a low budget film (thats never a problem in itself), there were some pretty interesting characters, but eventually I just lost interest.<br /><br />I imagine this film would appeal to a stoner who is currently partaking.<br /><br />For something similar but better try \"Brother from another planet\"   \n",
      "11                                                                                                                                                                                                                                                                                                                                                                                                                                                                                                                                                                                                                                                                                                                                                                                                                                                                                                                                                                                                                                                                                                                                                                                                                                                                                                                                            I saw this movie when I was about 12 when it came out. I recall the scariest scene was the big bird eating men dangling helplessly from parachutes right out of the air. The horror. The horror.<br /><br />As a young kid going to these cheesy B films on Saturday afternoons, I still was tired of the formula for these monster type movies that usually included the hero, a beautiful woman who might be the daughter of a professor and a happy resolution when the monster died in the end. I didn't care much for the romantic angle as a 12 year old and the predictable plots. I love them now for the unintentional humor.<br /><br />But, about a year or so later, I saw Psycho when it came out and I loved that the star, Janet Leigh, was bumped off early in the film. I sat up and took notice at that point. Since screenwriters are making up the story, make it up to be as scary as possible and not from a well-worn formula. There are no rules.   \n",
      "12  So im not a big fan of Boll's work but then again not many are. I enjoyed his movie Postal (maybe im the only one). Boll apparently bought the rights to use Far Cry long ago even before the game itself was even finsished. <br /><br />People who have enjoyed killing mercs and infiltrating secret research labs located on a tropical island should be warned, that this is not Far Cry... This is something Mr Boll have schemed together along with his legion of schmucks.. Feeling loneley on the set Mr Boll invites three of his countrymen to play with. These players go by the names of Til Schweiger, Udo Kier and Ralf Moeller.<br /><br />Three names that actually have made them selfs pretty big in the movie biz. So the tale goes like this, Jack Carver played by Til Schweiger (yes Carver is German all hail the bratwurst eating dudes!!) However I find that Tils acting in this movie is pretty badass.. People have complained about how he's not really staying true to the whole Carver agenda but we only saw carver in a first person perspective so we don't really know what he looked like when he was kicking a**.. <br /><br />However, the storyline in this film is beyond demented. We see the evil mad scientist Dr. Krieger played by Udo Kier, making Genetically-Mutated-soldiers or GMS as they are called. Performing his top-secret research on an island that reminds me of \"SPOILER\" Vancouver for some reason. Thats right no palm trees here. Instead we got some nice rich lumberjack-woods. We haven't even gone FAR before I started to CRY (mehehe) I cannot go on any more.. If you wanna stay true to Bolls shenanigans then go and see this movie you will not be disappointed it delivers the true Boll experience, meaning most of it will suck.<br /><br />There are some things worth mentioning that would imply that Boll did a good work on some areas of the film such as some nice boat and fighting scenes. Until the whole cromed/albino GMS squad enters the scene and everything just makes me laugh.. The movie Far Cry reeks of scheisse (that's poop for you simpletons) from a fa,r if you wanna take a wiff go ahead.. BTW Carver gets a very annoying sidekick who makes you wanna shoot him the first three minutes he's on screen.   \n",
      "13                                                                                                                                                                                                                                                                                                                                                                                                                                                                                                                                                                                                                                                                                                                                                                                                                                                                                                                                                                                                                                                                                                                                                                                                                                                                                                                                                                                                                                                                                                                                                                                                                               The cast played Shakespeare.<br /><br />Shakespeare lost.<br /><br />I appreciate that this is trying to bring Shakespeare to the masses, but why ruin something so good.<br /><br />Is it because 'The Scottish Play' is my favorite Shakespeare? I do not know. What I do know is that a certain Rev Bowdler (hence bowdlerization) tried to do something similar in the Victorian era.<br /><br />In other words, you cannot improve perfection.<br /><br />I have no more to write but as I have to write at least ten lines of text (and English composition was never my forte I will just have to keep going and say that this movie, as the saying goes, just does not cut it.   \n",
      "14                                                                                                                                                                                                                                                                                                                                                                                                                                                                                                                                                                                                                                                                                                                                                                                                                                                                                                                                                                                                                                                                                                                                                                                                                                                                                                                                                                                                                                                                                                                                                                                                                                                                                                                                                                                                                                                                                                                                                                                                                                  This a fantastic movie of three prisoners who become famous. One of the actors is george clooney and I'm not a fan but this roll is not bad. Another good thing about the movie is the soundtrack (The man of constant sorrow). I recommand this movie to everybody. Greetings Bart   \n",
      "15                                                                                                                                                                                                                                                                                                                                                                                                                                                                                                                                                                                                                                                                                                                                                                                                                                                                                                                                                                                                                                                                                                                                                                                                                                                                                                                                                                                                                                                       Kind of drawn in by the erotic scenes, only to realize this was one of the most amateurish and unbelievable bits of film I've ever seen. Sort of like a high school film project. What was Rosanna Arquette thinking?? And what was with all those stock characters in that bizarre supposed Midwest town? Pretty hard to get involved with this one. No lessons to be learned from it, no brilliant insights, just stilted and quite ridiculous (but lots of skin, if that intrigues you) videotaped nonsense....What was with the bisexual relationship, out of nowhere, after all the heterosexual encounters. And what was with that absurd dance, with everybody playing their stereotyped roles? Give this one a pass, it's like a million other miles of bad, wasted film, money that could have been spent on starving children or Aids in Africa.....   \n",
      "16                                                                                                                                                                                                                                                                                                                                                                                                                                                                                                                                                                                                                                                                                                                                                                                                                                                                                                                                                                                                                                                                                                                                                                                                                                                                                                                                                                                                                                                                                                                                                                     Some films just simply should not be remade. This is one of them. In and of itself it is not a bad film. But it fails to capture the flavor and the terror of the 1963 film of the same title. Liam Neeson was excellent as he always is, and most of the cast holds up, with the exception of Owen Wilson, who just did not bring the right feel to the character of Luke. But the major fault with this version is that it strayed too far from the Shirley Jackson story in it's attempts to be grandiose and lost some of the thrill of the earlier film in a trade off for snazzier special effects. Again I will say that in and of itself it is not a bad film. But you will enjoy the friction of terror in the older version much more.   \n",
      "17                                                                                                                                                                                                                                                                                                                                                                                                                                                                                                                                                                                                                                                                                                                                                                                                                                                                                                                                           This movie made it into one of my top 10 most awful movies. Horrible. <br /><br />There wasn't a continuous minute where there wasn't a fight with one monster or another. There was no chance for any character development, they were too busy running from one sword fight to another. I had no emotional attachment (except to the big bad machine that wanted to destroy them) <br /><br />Scenes were blatantly stolen from other movies, LOTR, Star Wars and Matrix. <br /><br />Examples<br /><br />>The ghost scene at the end was stolen from the final scene of the old Star Wars with Yoda, Obee One and Vader. <br /><br />>The spider machine in the beginning was exactly like Frodo being attacked by the spider in Return of the Kings. (Elijah Wood is the victim in both films) and wait......it hypnotizes (stings) its victim and wraps them up.....uh hello????<br /><br />>And the whole machine vs. humans theme WAS the Matrix..or Terminator.....<br /><br />There are more examples but why waste the time? And will someone tell me what was with the Nazi's?!?! Nazi's???? <br /><br />There was a juvenile story line rushed to a juvenile conclusion. The movie could not decide if it was a children's movie or an adult movie and wasn't much of either. <br /><br />Just awful. A real disappointment to say the least. Save your money.   \n",
      "18                                                                                                                                                                                                                                                                                                                                                                                                                                                                                                                                                                                                                                                                                                                                                                                                                                                                                                                                                                                                                                                                                                                                                                                                                                                                                                                                                                                                                                                                                                                                                                                                                                                      I remember this film,it was the first film i had watched at the cinema the picture was dark in places i was very nervous it was back in 74/75 my Dad took me my brother & sister to Newbury cinema in Newbury Berkshire England. I recall the tigers and the lots of snow in the film also the appearance of Grizzly Adams actor Dan Haggery i think one of the tigers gets shot and dies. If anyone knows where to find this on DVD etc please let me know.The cinema now has been turned in a fitness club which is a very big shame as the nearest cinema now is 20 miles away, would love to hear from others who have seen this film or any other like it.   \n",
      "19                                                                                                                                                                                                                                                                                                                                                                                                                                                                                                                                                                                                                                                                                                                                                                                                                                                                                                                                                                                                                                                                                                                                                                                                                                                                                                                                                                                                                                                                                                                                                An awful film! It must have been up against some real stinkers to be nominated for the Golden Globe. They've taken the story of the first famous female Renaissance painter and mangled it beyond recognition. My complaint is not that they've taken liberties with the facts; if the story were good, that would perfectly fine. But it's simply bizarre -- by all accounts the true story of this artist would have made for a far better film, so why did they come up with this dishwater-dull script? I suppose there weren't enough naked people in the factual version. It's hurriedly capped off in the end with a summary of the artist's life -- we could have saved ourselves a couple of hours if they'd favored the rest of the film with same brevity.   \n",
      "\n",
      "   sentiment  \n",
      "0   positive  \n",
      "1   positive  \n",
      "2   positive  \n",
      "3   negative  \n",
      "4   positive  \n",
      "5   positive  \n",
      "6   positive  \n",
      "7   negative  \n",
      "8   negative  \n",
      "9   positive  \n",
      "10  negative  \n",
      "11  negative  \n",
      "12  negative  \n",
      "13  negative  \n",
      "14  positive  \n",
      "15  negative  \n",
      "16  positive  \n",
      "17  negative  \n",
      "18  positive  \n",
      "19  negative  \n"
     ]
    }
   ],
   "source": [
    "file_path = r'IMDB Dataset.csv'\n",
    "data = pd.read_csv(file_path)\n",
    "print(data.head(20))\n"
   ]
  },
  {
   "cell_type": "code",
   "execution_count": 20,
   "metadata": {
    "id": "IuSYA0hmxMFi"
   },
   "outputs": [
    {
     "name": "stdout",
     "output_type": "stream",
     "text": [
      "Class distribution in 'sentiment':\n",
      " sentiment\n",
      "1    25000\n",
      "0    25000\n",
      "Name: count, dtype: int64\n",
      "50/50 class distribution\n"
     ]
    }
   ],
   "source": [
    "X = data['review']\n",
    "\n",
    "def transform_bin(x):\n",
    "  if x == \"positive\":\n",
    "    return 1\n",
    "  else:\n",
    "    return 0\n",
    "data['sentiment'] = data['sentiment'].apply(lambda x : transform_bin(x))\n",
    "\n",
    "y = data['sentiment']\n",
    "sentiment_counts = y.value_counts()\n",
    "print(\"Class distribution in 'sentiment':\\n\", sentiment_counts)\n",
    "print(\"50/50 class distribution\")"
   ]
  },
  {
   "cell_type": "code",
   "execution_count": 21,
   "metadata": {
    "colab": {
     "base_uri": "https://localhost:8080/"
    },
    "id": "m7B-wpCVzPFE",
    "outputId": "3ab119e0-6294-42a1-b8e6-e5221b9298a6"
   },
   "outputs": [
    {
     "name": "stdout",
     "output_type": "stream",
     "text": [
      "Training Data Size: 32000\n",
      "Validation Data Size: 8000\n",
      "Test Data Size: 10000\n"
     ]
    }
   ],
   "source": [
    "# Data split (80% training, 20% validation)\n",
    "train_data, X_test, train_label, y_test = train_test_split(X, y, test_size=0.2, random_state=42)\n",
    "X_train, X_val, y_train, y_val = train_test_split(train_data, train_label, test_size=0.2, random_state=42)\n",
    "\n",
    "X_train = X_train.to_frame()\n",
    "X_test = X_test.to_frame()\n",
    "X_val = X_val.to_frame()\n",
    "\n",
    "# Display the sizes of the datasets\n",
    "print(\"Training Data Size:\", len(X_train))\n",
    "print(\"Validation Data Size:\", len(X_val))\n",
    "print(\"Test Data Size:\", len(X_test))"
   ]
  },
  {
   "cell_type": "code",
   "execution_count": 22,
   "metadata": {
    "colab": {
     "base_uri": "https://localhost:8080/",
     "height": 458
    },
    "id": "ayiU8_He24C4",
    "outputId": "360f4187-b894-49f2-bead-1f838104300e"
   },
   "outputs": [
    {
     "name": "stdout",
     "output_type": "stream",
     "text": [
      "Class Distribution in Training Set:\n",
      " sentiment\n",
      "0    16080\n",
      "1    15920\n",
      "Name: count, dtype: int64\n",
      "\n",
      "Class Distribution in Validation Set:\n",
      " sentiment\n",
      "1    4041\n",
      "0    3959\n",
      "Name: count, dtype: int64\n",
      "\n",
      "Class Distribution in Test Set:\n",
      " sentiment\n",
      "1    5039\n",
      "0    4961\n",
      "Name: count, dtype: int64\n"
     ]
    }
   ],
   "source": [
    "# Training set distribution\n",
    "train_counts = y_train.value_counts()\n",
    "print(\"Class Distribution in Training Set:\\n\", train_counts)\n",
    "\n",
    "# Validation set distribution\n",
    "val_counts = y_val.value_counts()\n",
    "print(\"\\nClass Distribution in Validation Set:\\n\", val_counts)\n",
    "\n",
    "# Test set distribution\n",
    "test_counts = y_test.value_counts()\n",
    "print(\"\\nClass Distribution in Test Set:\\n\", test_counts)"
   ]
  },
  {
   "cell_type": "markdown",
   "metadata": {
    "id": "_FU2xc40zPFF"
   },
   "source": [
    "## 2. Text pre-processing "
   ]
  },
  {
   "cell_type": "code",
   "execution_count": 23,
   "metadata": {
    "colab": {
     "base_uri": "https://localhost:8080/"
    },
    "id": "6u_Ch73UzPFG",
    "outputId": "98045143-ac7d-463c-cbfc-e0f6404e31cd"
   },
   "outputs": [
    {
     "name": "stdout",
     "output_type": "stream",
     "text": [
      "Cleaned Reviews with Stopwords Removed:\n",
      "11794                                                                                                                                                                                                                                                           [fault, actors, put, great, performances, overall, story, well, executed, movie, opens, great, zinger, crazy, old, guy, forces, young, Aborigine, girls, car, road, forced, endure, 40, minutes, character, development, entirely, new, group, characters, dont, know, 40, minutes, turns, ones, eventually, discover, girls, body, story, progresses, therebr, br, story, pick, point, really, goes, nowhere, 2, hours, asked, point, see, characters, struggle, accusations, racism, stupidity, handled, discovery, story, ultimately, unsatisfying, felt, unfinished, well, acted, theres, strong, enough, backbone, film, warrant, recommending]\n",
      "24925                                                                                                                                                        [first, thing, thought, saw, films, really, film, least, imagine, spontaneously, hear, word, film, entirely, symbolic, everything, figurative, meaning, used, express, thing, symbolic, way, find, strange, acquainted, philosophy, religion, spiritual, life, think, fairytale, even, weird, one, chaotic, legend, Zu, perfectly, transparent, like, tells, us, images, story, fight, light, darkness, fight, old, humanity, every, one, search, sens, life, confronted, film, obviously, made, Buddhists, Buddhist, religion, vision, world, human, different, far, humans, human, nature, necessarily, common, experiences, understand, really, beautiful, film, films, like, films, meaning, many, empty, stories, good, make, time, pass, quickly]\n",
      "28578    [Postfeminist, depiction, cruelty, sadismbr, br, Spoiler, alert, br, br, underrated, gem, film, tells, story, Flavia, Fifteenth, Century, girl, Noble, birth, walled, convent, defining, father, indeed, whole, Medieval, Christian, society, viewing, fallen, Islamic, warrior, human, rather, demonic, figurebr, br, Unable, accept, patriarchal, rule, convent, explicitly, stated, scene, Bishop, arrives, flanked, soldiers, monks, Flavia, begins, explicitly, question, society, finds, butting, whole, system, subjugation, repression, violence, inevitably, brings, tragic, end, around, herbr, br, Billed, piece, nunsploitation, far, truth, film, depiction, consequences, violence, effects, patriarchal, dominance, nature, rebellion, corruption, human, spiritbr, br, described, title, piece, postfeminist, end, Flavias, triumphs, must, always, corrupted, compromised, perverted, ...]\n",
      "13987                                                                                                                                                                                                                                                                                                                                                                     [OMG, one, worst, films, iv, ever, seen, iv, seen, lot, Im, Film, student, dont, understand, Angelina, Jolie, would, movie, need, money, badly, love, AJ, seen, almost, everything, shes, ever, watched, 2, tick, another, one, SOO, bad, even, good, bad, bad, bad, 1, 2, funny, little, moments, bad, n, waste, 101, minutes, cant, even, say, AJ, looked, good, well, didnt, plot, predictable, unless, r, expecting, retelling, Romeo, Juliet, round, disappointing, Maybe, 12, could, good, film, otherwise, really, dont, recommend]\n",
      "7693                                                                                                                                                                                                                                                                                                                            [Box, film, great, potential, makers, totally, misused, potential, film, seemed, take, ever, boring, family, dinners, scenes, school, jobdialogs, action, scenes, could, must, deleted, opinion, keep, tensity, thrill, philosophy, human, free, potential, seems, referring, philosophy, Thomas, Hobbes, 15881679, find, regretfully, struck, magic, nosebleeds, even, Harry, Potter, would, flunked, class, withbr, br, Probably, best, part, moment, Norma, Lewis, Cameron, Diazhas, shot, death, loving, caring, husband, act, human, free, wonder, Hobbes, would, react, could]\n",
      "Name: cleaned_review, dtype: object\n"
     ]
    }
   ],
   "source": [
    "def clean_text(text):\n",
    "    # Remove unusual or non-ASCII characters\n",
    "    text = re.sub(r'[^\\x00-\\x7F]+', '', text)\n",
    "\n",
    "    # Remove punctuation\n",
    "    text = re.sub(r'[^\\w\\s]', '', text)\n",
    "\n",
    "    # Remove extra spaces\n",
    "    text = re.sub(r'\\s+', ' ', text).strip()\n",
    "\n",
    "    # Tokenize the text into words for processing\n",
    "    words = text.split()\n",
    "\n",
    "    # Remove stopwords\n",
    "    stop_words = set(stopwords.words('english'))\n",
    "    filtered_words = [word for word in words if word.lower() not in stop_words]\n",
    "\n",
    "\n",
    "    return filtered_words\n",
    "\n",
    "X_train['cleaned_review'] = X_train['review'].apply(clean_text)\n",
    "X_val['cleaned_review']  = X_val['review'].apply(clean_text)\n",
    "X_test['cleaned_review']  = X_test['review'].apply(clean_text)\n",
    "\n",
    "\n",
    "# Display the first few cleaned reviews\n",
    "print(\"Cleaned Reviews with Stopwords Removed:\")\n",
    "print(X_train['cleaned_review'].head(5))"
   ]
  },
  {
   "cell_type": "markdown",
   "metadata": {
    "id": "3rmL8pVB4z6J"
   },
   "source": [
    "## 3. Further preprocessing: Features and Embeddings"
   ]
  },
  {
   "cell_type": "markdown",
   "metadata": {
    "id": "2JZ5Me-kBqLg"
   },
   "source": [
    "#### Features"
   ]
  },
  {
   "cell_type": "markdown",
   "metadata": {
    "id": "xxC0Je2g5l7b"
   },
   "source": [
    "Here we create: Number of Positive lexicon words, Number of Negative lexicon words, Number of nos, and Number of words. After that the values were standardized"
   ]
  },
  {
   "cell_type": "code",
   "execution_count": 24,
   "metadata": {
    "colab": {
     "base_uri": "https://localhost:8080/"
    },
    "id": "3SXYVK2X8uaV",
    "outputId": "ae3289e4-ecbd-44b3-c488-27e3dc583d58",
    "scrolled": true
   },
   "outputs": [
    {
     "name": "stdout",
     "output_type": "stream",
     "text": [
      "Training Data with cleaned reviews with Stemming and New Features:\n",
      "11794                                                                                                                                                                                                                                                           [fault, actors, put, great, performances, overall, story, well, executed, movie, opens, great, zinger, crazy, old, guy, forces, young, Aborigine, girls, car, road, forced, endure, 40, minutes, character, development, entirely, new, group, characters, dont, know, 40, minutes, turns, ones, eventually, discover, girls, body, story, progresses, therebr, br, story, pick, point, really, goes, nowhere, 2, hours, asked, point, see, characters, struggle, accusations, racism, stupidity, handled, discovery, story, ultimately, unsatisfying, felt, unfinished, well, acted, theres, strong, enough, backbone, film, warrant, recommending]\n",
      "24925                                                                                                                                                        [first, thing, thought, saw, films, really, film, least, imagine, spontaneously, hear, word, film, entirely, symbolic, everything, figurative, meaning, used, express, thing, symbolic, way, find, strange, acquainted, philosophy, religion, spiritual, life, think, fairytale, even, weird, one, chaotic, legend, Zu, perfectly, transparent, like, tells, us, images, story, fight, light, darkness, fight, old, humanity, every, one, search, sens, life, confronted, film, obviously, made, Buddhists, Buddhist, religion, vision, world, human, different, far, humans, human, nature, necessarily, common, experiences, understand, really, beautiful, film, films, like, films, meaning, many, empty, stories, good, make, time, pass, quickly]\n",
      "28578    [Postfeminist, depiction, cruelty, sadismbr, br, Spoiler, alert, br, br, underrated, gem, film, tells, story, Flavia, Fifteenth, Century, girl, Noble, birth, walled, convent, defining, father, indeed, whole, Medieval, Christian, society, viewing, fallen, Islamic, warrior, human, rather, demonic, figurebr, br, Unable, accept, patriarchal, rule, convent, explicitly, stated, scene, Bishop, arrives, flanked, soldiers, monks, Flavia, begins, explicitly, question, society, finds, butting, whole, system, subjugation, repression, violence, inevitably, brings, tragic, end, around, herbr, br, Billed, piece, nunsploitation, far, truth, film, depiction, consequences, violence, effects, patriarchal, dominance, nature, rebellion, corruption, human, spiritbr, br, described, title, piece, postfeminist, end, Flavias, triumphs, must, always, corrupted, compromised, perverted, ...]\n",
      "13987                                                                                                                                                                                                                                                                                                                                                                     [OMG, one, worst, films, iv, ever, seen, iv, seen, lot, Im, Film, student, dont, understand, Angelina, Jolie, would, movie, need, money, badly, love, AJ, seen, almost, everything, shes, ever, watched, 2, tick, another, one, SOO, bad, even, good, bad, bad, bad, 1, 2, funny, little, moments, bad, n, waste, 101, minutes, cant, even, say, AJ, looked, good, well, didnt, plot, predictable, unless, r, expecting, retelling, Romeo, Juliet, round, disappointing, Maybe, 12, could, good, film, otherwise, really, dont, recommend]\n",
      "7693                                                                                                                                                                                                                                                                                                                            [Box, film, great, potential, makers, totally, misused, potential, film, seemed, take, ever, boring, family, dinners, scenes, school, jobdialogs, action, scenes, could, must, deleted, opinion, keep, tensity, thrill, philosophy, human, free, potential, seems, referring, philosophy, Thomas, Hobbes, 15881679, find, regretfully, struck, magic, nosebleeds, even, Harry, Potter, would, flunked, class, withbr, br, Probably, best, part, moment, Norma, Lewis, Cameron, Diazhas, shot, death, loving, caring, husband, act, human, free, wonder, Hobbes, would, react, could]\n",
      "8561                                                  [fortunate, year, seen, several, films, universitys, art, museum, occasion, well, like, half, time, unable, watch, films, systematically, attempted, view, films, missed, far, Plagues, Pleasures, Salton, Sea, Killed, Electric, Car, films, watch, way, film, covers, intriguing, subject, matter, welltheorized, emphasis, later, successful, Plagues, Pleasures, far, superior, Electric, Car, br, br, films, thesis, concerns, future, American, concept, suburban, living, questions, feasibility, practice, oil, prices, rise, film, discusses, origin, suburb, evolution, early, 2000s, One, theme, film, discusses, length, alienation, suburb, creates, among, inhabitants, several, people, may, live, together, know, define, word, represents, strength, film, appeal, actual, human, emotion, able, understand, filmmakers, argument, much, ...]\n",
      "35645                                                                                                                                                                                                                                                                                                                                                                                                                     [premise, anime, series, bread, things, base, plot, truly, laughed, main, character, special, bread, making, power, born, goes, bread, baking, school, wish, available, DVD, doesnt, matter, subtitled, dubbed, good, Even, theme, song, alone, funny, one, point, theme, song, theres, AfricanJapanese, man, afro, horseback, wielding, French, baguette, samurai, sword, images, make, sense, unless, see, anime, Youll, laugh, sides, hurt, definitely, unique, anime, seen, thus, far]\n",
      "17976                                                                                                                                                                                                                                                                                                                                                        [movie, probably, overall, meditative, quality, music, beautiful, photography, listening, often, clich, things, life, Andy, Goldsworthy, would, say, worked, shots, youre, familiar, Buddhism, sort, sense, got, film, impermanence, life, beauty, nature, interconnectedness, things, etc, However, understand, confused, ultimately, forced, leave, without, finishing, saw, hour, redundancy, whole, thing, find, bits, pieces, hes, commissioned, even, afford, live, kind, work, art, work, comes, alive, talking, conclusions, leads, dead, ends]\n",
      "47966                                                               [rule, try, find, much, films, possibly, enjoy, made, exceptions, Tart, best, appreciate, effort, matter, great, could, possibly, redeem, pitiful, excuse, moviebr, br, failed, number, reasons, Firstly, cinematography, directionless, ineffective, Secondly, script, reached, depths, poor, took, well, truly, beyond, bad, good, category, Thirdly, acting, left, mindblowing, amounts, desired, appalling, really, Anyone, saw, Mischa, Barton, seen, remarkably, terrible, Grace, character, poorly, invented, realised, Ja, Ja, Binks, doesnt, seem, bad, Devon, John, Duigans, Lawn, Dogs, wonder, went, wrong, Perhaps, given, character, worth, bothering, modicum, direction, least, might, given, film, ONE, redeeming, feature, Alas, case, Finally, film, seemed, point, whatsoever, expressing, nothing, achieving, nothing, ...]\n",
      "24453                                                                                                                                                                                                                                                                                                                                                              [Based, little, seen, show, dont, think, ever, watch, even, remotely, believable, frankly, Derek, character, makes, angrybr, br, Sorry, seeing, spoiled, brat, get, way, time, would, want, watch, thanks, plenty, shows, involve, devious, characters, Phil, Futures, Pim, example, evil, one, doesnt, win, way, thoughbr, br, mention, think, terrible, picture, paint, living, stepsiblings, Yes, life, isnt, rosy, one, could, attempt, portray, character, wasnt, outright, evil, winsbr, br, suggestion, watch, like, seeing, villain, win]\n",
      "48518                                                                                                                                                                                                                                                                                                                                                                                                                                                                                                                                      [Possibly, worst, movie, ever, seen, Pathetic, almost, every, waybr, br, threw, DVD, straight, bin, didnt, even, think, fair, give, local, thrift, shopbr, br, effects, beyond, joke, dam, control, room, looks, like, cardboard, water, looks, way, scale, backgrounds, nothing, worksbr, br, limp, plot, much, depth, Scooby, Doo, cartoonbr, br, couldnt, wait, drown]\n",
      "40233                                                                                                                                                                                                                                                                                                                                                                                                              [Ashley, Judd, early, role, think, first, starring, role, shows, reallife, rebellious, nature, slowmoving, feminist, soap, opera, Wow, vehicle, political, correctness, extreme, Liberalism, whatbr, br, staunch, feminist, real, life, must, cherished, script, wonder, Left, Wing, critic, Roger, Ebert, loved, movie, right, political, alley, toobr, br, Unlike, reviewers, glad, Judd, elevated, moronic, fluff, better, roles, movies, entertained, preached, heavyhanded, Liberal, agenda]\n",
      "6813                                                           [spoiler, warning, sad, state, cinema, unprofessional, junk, like, considered, Oscar, worthybr, br, divide, material, three, levels, first, stage, theatre, viewer, stagnant, power, rests, presentation, actor, importantly, power, writer, good, playwright, better, good, screenwriter, knows, ways, words, better, best, playwrights, know, create, imagery, barren, stage, cannot, showbr, br, second, level, film, medium, weaker, writer, used, viewer, sitting, one, spot, entire, time, film, context, take, qualities, visual, poetry, meaning, addition, strong, writing, Furthermore, film, manipulate, everday, elements, like, sound, color, ways, almost, surrealbr, br, final, level, literature, context, everything, imagined, author, translated, onto, paper, reimagined, reader, Far, detail, go, novel, conceivable, film, ...]\n",
      "8428      [handful, alternative, titles, English, Sexorcist, definitely, appropriate, one, since, basically, shameless, rip, William, Friedkins, classic, horror, film, replaced, 13yearold, Linda, Blair, 19yearold, Stella, Carnacina, could, gratuitously, show, ravishing, naked, body, Im, sure, exactly, Satan, tries, accomplish, exclusively, seems, possess, young, girl, play, sexual, tricks, Poor, Danila, masturbates, around, clock, tries, seduce, priests, even, father, sex, young, girl, introduced, smart, ambitious, theologystudent, oddlooking, boyfriend, driving, stupid, yellow, car, loving, albeit, adulterous, parents, takes, peculiar, crucifix, home, renovate, ancient, relic, comes, life, less, Satan, played, Ivan, Rassimov, Jungle, Holocaust, Planet, Vampires, starts, torment, overlong, masturbation, sessions, bizarre, nightmare, sequences, cover, three, quarters, ...]\n",
      "41242                                                                                                                                                                                                                                                                                                                                                                                                                                                                                                                                        [Though, Cher, Cage, focal, points, story, Gardenia, Dukakis, good, counterparts, Loretta, Ronny, 50, years, still, love, whole, cast, nice, job, Aiello, John, Mahoney, shows, real, slice, life, Though, saw, long, ago, glad, finally, catapulted, Cage, place, recognized, Hollywood, talent, music, scenes, opera, kitchen, table, arguments, entertaining, movie]\n",
      "10521                                                                                                          [Divorced, single, mom, picturesque, seaside, town, finds, anonymous, love, letter, allows, spur, action, dormant, love, life, Pet, project, actresscoproducer, Kate, Capshaw, gives, warm, nicelymodulated, lead, performance, yet, story, slim, direction, editing, erratic, faint, dissatisfaction, creeps, Initially, Capshaws, Helen, envisions, several, friends, reading, love, letter, interesting, visual, joke, first, person, ploy, Ellen, DeGeneres, doesnt, play, lesbian, comes, one, gimmick, Different, ideas, flayed, hopes, one, would, stick, continuity, extremely, choppy, Supporting, cast, including, Tom, Selleck, Tom, Everett, Scott, mostly, acts, shirt, good, cant, save, final, act, disappointing, Lowkeyed, quirky, pleasant, way, blandly, goodnatured, nothing, 12]\n",
      "35760                [opening, scenes, FIERCE, PEOPLE, interplay, tribal, customs, photographed, anthropologist, father, young, narrator, Finn, Earl, demonstrating, South, American, tribe, Ishkanani, fierce, direction, film, nebulous, watching, dark, comedy, comparing, life, New, York, streets, uncivilized, peoples, message, film, serious, intent, story, develops, fine, line, entertainment, philosophical, impact, becomes, increasingly, clear, Griffin, Dunnes, direction, Dirk, Wittenborns, adaptation, novel, may, bit, careless, times, strays, rational, plot, development, end, strong, enough, final, impact, patch, holes, createdbr, br, narrator, Finn, Earl, Anton, Yelchin, lives, cokeaddicted, masseusesexually, obsessed, mother, Liz, Diane, Lane, New, York, waiting, summer, join, anthropologist, father, field, trip, South, America, father, knows, letters, videos, drug, ...]\n",
      "8486                                                                                                                                                                                                                                                                                                                                                                                                                                                                                                                                                                                                                                                                                                                          [movie, sucks, anyone, notice, entire, movie, shot, like, 2, rooms, NEVER, outside, shots, obviously, film, taken, somewhere, else, movie, blows, hard, painful, sit, stay, far, away]\n",
      "13132                                                                                                                                                                                                                                                                                                                                                                                 [probably, people, afraid, dentist, lets, say, little, monsters, scary, looking, dolls, makes, perfect, subject, horror, movie, reallybr, br, Dr, Feinstone, Corbin, Bernsen, successful, dentist, several, years, catches, wife, cheating, poolguy, snaps, brings, anger, frustration, work, Well, give, mad, dentist, drill, mouth, probably, guess, happens, nextbr, br, said, brilliant, idea, delivered, well, particular, ending, huge, let, Last, note, watch, Mark, Ruffalo, Count, Eternal, Sunshine, onebr, br, 510]\n",
      "26919                                                                                                                                                                                   [Im, much, fun, reading, user, comments, watching, movie, seems, classic, either, Love, Hate, movie, say, Love, side, Im, going, limb, say, FAVORITE, movie, EVER, Thank, heavens, found, first, place, Almost, IMPOSSIBLE, find, lucky, ten, years, ago, record, late, night, UHF, channel, course, liking, Sellers, may, make, bit, biased, cant, see, anyone, cornball, dry, sense, humor, like, love, flick, plot, great, perhaps, previous, poster, said, maybe, reason, widely, known, movie, upset, medical, field, acting, great, see, may, say, acting, horrible, thats, made, movie, great, total, tackyness, humor, gut, busting, Im, proud, say, watched, film, less, 20, times, pretty, much, every, line, ...]\n",
      "Name: cleaned_review, dtype: object\n"
     ]
    }
   ],
   "source": [
    "# 1. Lexicon Creation\n",
    "positive_lexicon = set(opinion_lexicon.positive()) #list of positive words from the NLTK package\n",
    "negative_lexicon = set(opinion_lexicon.negative()) #list of negative words from the NLTK package\n",
    "\n",
    "# 2. Defining Functions\n",
    "def counts_lex(review, type = 'neg'):\n",
    "    count_neg = 0\n",
    "    count_pos = 0\n",
    "    for word in review:\n",
    "      if word.lower() in positive_lexicon:\n",
    "        count_pos += 1\n",
    "      if word.lower() in negative_lexicon:\n",
    "        count_neg += 1\n",
    "    if type == 'neg':\n",
    "      return count_neg\n",
    "    elif type == 'pos':\n",
    "      return count_pos\n",
    "\n",
    "# Ensure reviews are tokenized, we use the review column as 'no' and 'not' gets removed by stopwords\n",
    "def count_nos(review):\n",
    "    count = 0\n",
    "    words = review.split()  # Tokenize if review column is a single string\n",
    "    for word in words:\n",
    "        if word.lower() == \"no\" or word.lower() == \"not\":\n",
    "            count += 1\n",
    "    return count\n",
    "\n",
    "# 3. Feature Extraction for Training, Validation, and Test Sets\n",
    "X_train['NrPos'] = X_train['cleaned_review'].apply(lambda x : counts_lex(x, type = \"pos\"))\n",
    "X_train['NrNeg'] = X_train['cleaned_review'].apply(lambda x : counts_lex(x, type = \"neg\"))\n",
    "X_train['NrWords'] = X_train['cleaned_review'].apply(lambda x: len(x))\n",
    "X_train['Nos'] = X_train['review'].apply(lambda x : count_nos(x))\n",
    "\n",
    "X_val['NrPos'] = X_val['cleaned_review'].apply(lambda x : counts_lex(x, type = \"pos\"))\n",
    "X_val['NrNeg'] = X_val['cleaned_review'].apply(lambda x : counts_lex(x, type = \"neg\"))\n",
    "X_val['NrWords'] = X_val['cleaned_review'].apply(lambda x: len(x))\n",
    "X_val['Nos'] = X_val['review'].apply(lambda x : count_nos(x))\n",
    "\n",
    "X_test['NrPos'] = X_test['cleaned_review'].apply(lambda x : counts_lex(x, type = \"pos\"))\n",
    "X_test['NrNeg'] = X_test['cleaned_review'].apply(lambda x : counts_lex(x, type = \"neg\"))\n",
    "X_test['NrWords'] = X_test['cleaned_review'].apply(lambda x: len(x))\n",
    "X_test['Nos'] = X_test['review'].apply(lambda x : count_nos(x))\n",
    "\n",
    "# 4. Standardizing Features\n",
    "cols = ['NrPos', 'NrNeg', 'NrWords', 'Nos']\n",
    "train_features_to_transform = X_train[cols]\n",
    "val_features_to_transform = X_val[cols]\n",
    "test_features_to_transform = X_test[cols]\n",
    "\n",
    "scaler = StandardScaler()\n",
    "X_train_std = scaler.fit_transform(train_features_to_transform)  # X is your feature matrix\n",
    "X_val_std = scaler.transform(val_features_to_transform)\n",
    "X_test_std = scaler.transform(test_features_to_transform)\n",
    "\n",
    "X_train[cols] = X_train_std\n",
    "X_val[cols] = X_val_std\n",
    "X_test[cols] = X_test_std\n",
    "\n",
    "# 5. Stemming Words\n",
    "# Apply stemming\n",
    "stemmer = PorterStemmer()\n",
    "\n",
    "X_train['Stem Words'] = X_train['cleaned_review'].apply(lambda x : [stemmer.stem(word.lower()) for word in x])\n",
    "X_val['Stem Words'] = X_val['cleaned_review'].apply(lambda x : [stemmer.stem(word.lower()) for word in x])\n",
    "X_test['Stem Words'] = X_test['cleaned_review'].apply(lambda x : [stemmer.stem(word.lower()) for word in x])\n",
    "\n",
    "# 6. Output for debugging\n",
    "# Display the first few cleaned reviews\n",
    "print(\"Training Data with cleaned reviews with Stemming and New Features:\")\n",
    "print(X_train['cleaned_review'].head(20))"
   ]
  },
  {
   "cell_type": "code",
   "execution_count": 25,
   "metadata": {
    "colab": {
     "base_uri": "https://localhost:8080/",
     "height": 424
    },
    "id": "vR6cvPcg87h0",
    "outputId": "bf2bca10-d772-4fa7-c99c-2627a11995e7",
    "scrolled": true
   },
   "outputs": [
    {
     "data": {
      "text/html": [
       "<div>\n",
       "<style scoped>\n",
       "    .dataframe tbody tr th:only-of-type {\n",
       "        vertical-align: middle;\n",
       "    }\n",
       "\n",
       "    .dataframe tbody tr th {\n",
       "        vertical-align: top;\n",
       "    }\n",
       "\n",
       "    .dataframe thead th {\n",
       "        text-align: right;\n",
       "    }\n",
       "</style>\n",
       "<table border=\"1\" class=\"dataframe\">\n",
       "  <thead>\n",
       "    <tr style=\"text-align: right;\">\n",
       "      <th></th>\n",
       "      <th>review</th>\n",
       "      <th>cleaned_review</th>\n",
       "      <th>NrPos</th>\n",
       "      <th>NrNeg</th>\n",
       "      <th>NrWords</th>\n",
       "      <th>Nos</th>\n",
       "      <th>Stem Words</th>\n",
       "    </tr>\n",
       "  </thead>\n",
       "  <tbody>\n",
       "    <tr>\n",
       "      <th>11794</th>\n",
       "      <td>With no fault to the actors (they all put on great performances), the overall story was not very well executed. The movie opens with a great zinger: a crazy old guy forces a young Aborigine girl's car off the road. But then, we're forced to endure 40 minutes of character development with an entirely new group of characters ... and we don't know why until the 40 minutes are up. It turns out that they are the ones who eventually discover the girl's body ... and the story progresses from there.&lt;br /&gt;&lt;br /&gt;While the story does pick up at that point, it really goes nowhere. After 2 hours, I asked myself: was there a point to this, or was it just to see the characters struggle with accusations of racism and stupidity of how they handled the discovery? The story was ultimately unsatisfying and felt unfinished. While it is well acted, there's not a strong enough backbone in the film to warrant recommending it.</td>\n",
       "      <td>[fault, actors, put, great, performances, overall, story, well, executed, movie, opens, great, zinger, crazy, old, guy, forces, young, Aborigine, girls, car, road, forced, endure, 40, minutes, character, development, entirely, new, group, characters, dont, know, 40, minutes, turns, ones, eventually, discover, girls, body, story, progresses, therebr, br, story, pick, point, really, goes, nowhere, 2, hours, asked, point, see, characters, struggle, accusations, racism, stupidity, handled, discovery, story, ultimately, unsatisfying, felt, unfinished, well, acted, theres, strong, enough, backbone, film, warrant, recommending]</td>\n",
       "      <td>-0.349058</td>\n",
       "      <td>-0.255423</td>\n",
       "      <td>-0.481820</td>\n",
       "      <td>0.761786</td>\n",
       "      <td>[fault, actor, put, great, perform, overal, stori, well, execut, movi, open, great, zinger, crazi, old, guy, forc, young, aborigin, girl, car, road, forc, endur, 40, minut, charact, develop, entir, new, group, charact, dont, know, 40, minut, turn, one, eventu, discov, girl, bodi, stori, progress, therebr, br, stori, pick, point, realli, goe, nowher, 2, hour, ask, point, see, charact, struggl, accus, racism, stupid, handl, discoveri, stori, ultim, unsatisfi, felt, unfinish, well, act, there, strong, enough, backbon, film, warrant, recommend]</td>\n",
       "    </tr>\n",
       "    <tr>\n",
       "      <th>24925</th>\n",
       "      <td>The first thing I thought when I saw this films was: It is not really a film, at least it is not what we imagine spontaneously when we hear the word \"film\". it is entirely symbolic, everything in it has a figurative meaning. So if you are not used to express thing in a symbolic way, you will find it strange, if you are not acquainted with philosophy, religion, spiritual life, you will think it's just a fairy-tale... and even a weird one, chaotic. For me \"The legend of Zu\" is perfectly transparent. And I do like it. It tells us in images the story about the fight between light and darkness, the fight that is as old as humanity, and every one who is in search of the sens in this life is confronted with it. The film is obviously made by Buddhists. I am not a Buddhist. My religion and the vision of the world and human is different. But as far as we are all humans and have the same human nature we necessarily have common experiences and can understand each other. It is a really beautiful film! And I which we had more films like this - films that have a meaning. There are too many empty stories which are good only to make time pass more quickly.</td>\n",
       "      <td>[first, thing, thought, saw, films, really, film, least, imagine, spontaneously, hear, word, film, entirely, symbolic, everything, figurative, meaning, used, express, thing, symbolic, way, find, strange, acquainted, philosophy, religion, spiritual, life, think, fairytale, even, weird, one, chaotic, legend, Zu, perfectly, transparent, like, tells, us, images, story, fight, light, darkness, fight, old, humanity, every, one, search, sens, life, confronted, film, obviously, made, Buddhists, Buddhist, religion, vision, world, human, different, far, humans, human, nature, necessarily, common, experiences, understand, really, beautiful, film, films, like, films, meaning, many, empty, stories, good, make, time, pass, quickly]</td>\n",
       "      <td>-0.349058</td>\n",
       "      <td>-0.623733</td>\n",
       "      <td>-0.351669</td>\n",
       "      <td>1.839063</td>\n",
       "      <td>[first, thing, thought, saw, film, realli, film, least, imagin, spontan, hear, word, film, entir, symbol, everyth, figur, mean, use, express, thing, symbol, way, find, strang, acquaint, philosophi, religion, spiritu, life, think, fairytal, even, weird, one, chaotic, legend, zu, perfectli, transpar, like, tell, us, imag, stori, fight, light, dark, fight, old, human, everi, one, search, sen, life, confront, film, obvious, made, buddhist, buddhist, religion, vision, world, human, differ, far, human, human, natur, necessarili, common, experi, understand, realli, beauti, film, film, like, film, mean, mani, empti, stori, good, make, time, pass, quickli]</td>\n",
       "    </tr>\n",
       "    <tr>\n",
       "      <th>28578</th>\n",
       "      <td>Post-feminist depiction of cruelty and sadism.&lt;br /&gt;&lt;br /&gt;Spoiler alert! &lt;br /&gt;&lt;br /&gt;This underrated gem of a film tells the story of Flavia, a Fifteenth Century girl of Noble birth walled up in a convent after defining her father and indeed the whole of Medieval Christian society by viewing a fallen Islamic warrior as a human rather than demonic figure.&lt;br /&gt;&lt;br /&gt;Unable to accept the patriarchal rule of the convent (explicitly stated in a scene where the Bishop arrives flanked by soldiers and monks) Flavia begins to explicitly question the society in which she finds herself and, through butting up against a whole system of subjugation, repression and violence, inevitably brings a tragic end not only to herself but all those around her.&lt;br /&gt;&lt;br /&gt;Billed as a piece of nunsploitation this is far from the truth. This is a film depiction the consequences of violence, the effects of patriarchal dominance, the nature of rebellion and the corruption of the human spirit.&lt;br /&gt;&lt;br /&gt;I described it in the title of this piece as 'post-feminist' and in the end Flavia's triumphs must always be corrupted, compromised and perverted by men. Even Flavia's gruesome end is perpetrated by men for men (the women turn away and only the monks look on without horror.&lt;br /&gt;&lt;br /&gt;As to the much discussed violence: this is a depiction of the effects of violence and the horrors of a world driven mad by religious excess. To have shied away from the violence would have limited the film's impact, would have cheapened the film and allowed it to be assimilated within the Patriarchal discourse it is exposing. In addition it is a realistic portrait of medieval society.&lt;br /&gt;&lt;br /&gt;Beautifully filmed, brilliantly acted (notably by Florinda Bolkin and Maria Casares), containing a wonderful score by piovani and still challenging after all these years Flavia is a classic of European Cinema.</td>\n",
       "      <td>[Postfeminist, depiction, cruelty, sadismbr, br, Spoiler, alert, br, br, underrated, gem, film, tells, story, Flavia, Fifteenth, Century, girl, Noble, birth, walled, convent, defining, father, indeed, whole, Medieval, Christian, society, viewing, fallen, Islamic, warrior, human, rather, demonic, figurebr, br, Unable, accept, patriarchal, rule, convent, explicitly, stated, scene, Bishop, arrives, flanked, soldiers, monks, Flavia, begins, explicitly, question, society, finds, butting, whole, system, subjugation, repression, violence, inevitably, brings, tragic, end, around, herbr, br, Billed, piece, nunsploitation, far, truth, film, depiction, consequences, violence, effects, patriarchal, dominance, nature, rebellion, corruption, human, spiritbr, br, described, title, piece, postfeminist, end, Flavias, triumphs, must, always, corrupted, compromised, perverted, ...]</td>\n",
       "      <td>-0.216966</td>\n",
       "      <td>0.726737</td>\n",
       "      <td>0.516006</td>\n",
       "      <td>-0.315491</td>\n",
       "      <td>[postfeminist, depict, cruelti, sadismbr, br, spoiler, alert, br, br, underr, gem, film, tell, stori, flavia, fifteenth, centuri, girl, nobl, birth, wall, convent, defin, father, inde, whole, mediev, christian, societi, view, fallen, islam, warrior, human, rather, demon, figurebr, br, unabl, accept, patriarch, rule, convent, explicitli, state, scene, bishop, arriv, flank, soldier, monk, flavia, begin, explicitli, question, societi, find, but, whole, system, subjug, repress, violenc, inevit, bring, tragic, end, around, herbr, br, bill, piec, nunsploit, far, truth, film, depict, consequ, violenc, effect, patriarch, domin, natur, rebellion, corrupt, human, spiritbr, br, describ, titl, piec, postfeminist, end, flavia, triumph, must, alway, corrupt, compromis, pervert, ...]</td>\n",
       "    </tr>\n",
       "    <tr>\n",
       "      <th>13987</th>\n",
       "      <td>OMG this is one of the worst films iv ever seen and iv seen a lot I'm a Film student. I don't understand why Angelina Jolie would be in this movie? Did she need the money that badly? I love AJ and have seen almost everything shes ever been in so i watched this 2 tick another one off. It was SOO bad! not even good bad, just bad bad. It had 1 or 2 funny little moments but all in all it was bad n a waste of 101 minutes. I cant even say AJ looked good in it because well she didn't. The plot is predictable unless you r expecting a re-telling of Romeo and Juliet then its not. All round disappointing. Maybe if your 12 this could be a good film otherwise I really don't recommend it.</td>\n",
       "      <td>[OMG, one, worst, films, iv, ever, seen, iv, seen, lot, Im, Film, student, dont, understand, Angelina, Jolie, would, movie, need, money, badly, love, AJ, seen, almost, everything, shes, ever, watched, 2, tick, another, one, SOO, bad, even, good, bad, bad, bad, 1, 2, funny, little, moments, bad, n, waste, 101, minutes, cant, even, say, AJ, looked, good, well, didnt, plot, predictable, unless, r, expecting, retelling, Romeo, Juliet, round, disappointing, Maybe, 12, could, good, film, otherwise, really, dont, recommend]</td>\n",
       "      <td>-0.481151</td>\n",
       "      <td>0.235657</td>\n",
       "      <td>-0.481820</td>\n",
       "      <td>-0.315491</td>\n",
       "      <td>[omg, one, worst, film, iv, ever, seen, iv, seen, lot, im, film, student, dont, understand, angelina, joli, would, movi, need, money, badli, love, aj, seen, almost, everyth, she, ever, watch, 2, tick, anoth, one, soo, bad, even, good, bad, bad, bad, 1, 2, funni, littl, moment, bad, n, wast, 101, minut, cant, even, say, aj, look, good, well, didnt, plot, predict, unless, r, expect, retel, romeo, juliet, round, disappoint, mayb, 12, could, good, film, otherwis, realli, dont, recommend]</td>\n",
       "    </tr>\n",
       "    <tr>\n",
       "      <th>7693</th>\n",
       "      <td>The Box is a film with great potential, but the makers totally misused that potential. The film seemed to take for ever, because of the boring family dinners and scenes about school and job-dialogs between the action. Those scenes could and must be deleted in my opinion to keep up the tensity and thrill. The philosophy of human free will has potential and seems to referring to the philosophy of Thomas Hobbes (1588-1679), but we find ourselves regretfully struck with magic and nosebleeds, were even Harry Potter would flunked his class with!&lt;br /&gt;&lt;br /&gt;Probably the best part was that moment when Norma Lewis (Cameron Diaz)has been shot to death, by her loving and caring husband as an act of human free will. I wonder how Hobbes would react if he could...</td>\n",
       "      <td>[Box, film, great, potential, makers, totally, misused, potential, film, seemed, take, ever, boring, family, dinners, scenes, school, jobdialogs, action, scenes, could, must, deleted, opinion, keep, tensity, thrill, philosophy, human, free, potential, seems, referring, philosophy, Thomas, Hobbes, 15881679, find, regretfully, struck, magic, nosebleeds, even, Harry, Potter, would, flunked, class, withbr, br, Probably, best, part, moment, Norma, Lewis, Cameron, Diazhas, shot, death, loving, caring, husband, act, human, free, wonder, Hobbes, would, react, could]</td>\n",
       "      <td>-0.216966</td>\n",
       "      <td>-0.623733</td>\n",
       "      <td>-0.557742</td>\n",
       "      <td>-0.854129</td>\n",
       "      <td>[box, film, great, potenti, maker, total, misus, potenti, film, seem, take, ever, bore, famili, dinner, scene, school, jobdialog, action, scene, could, must, delet, opinion, keep, tensiti, thrill, philosophi, human, free, potenti, seem, refer, philosophi, thoma, hobb, 15881679, find, regret, struck, magic, noseble, even, harri, potter, would, flunk, class, withbr, br, probabl, best, part, moment, norma, lewi, cameron, diazha, shot, death, love, care, husband, act, human, free, wonder, hobb, would, react, could]</td>\n",
       "    </tr>\n",
       "    <tr>\n",
       "      <th>...</th>\n",
       "      <td>...</td>\n",
       "      <td>...</td>\n",
       "      <td>...</td>\n",
       "      <td>...</td>\n",
       "      <td>...</td>\n",
       "      <td>...</td>\n",
       "      <td>...</td>\n",
       "    </tr>\n",
       "    <tr>\n",
       "      <th>27517</th>\n",
       "      <td>This is one creepy underrated Gem with chilling performances and a fantastic finale!. All the characters are great, and the story was awesome, plus i thought the ending was really cool!. The plot was great, and it never bored me, plus while the child actors were bad, they gave me the creeps!. This happened to be on the space channel a while ago, so i decided to check it out and tape it, i read some good reviews from fellow horror fans, i must say i agree with them, it's very creepy, and suspenseful, plus Strother Martin, was fantastic in his role, as the Satan worshiper. It has tons of creepy atmosphere, and it keeps you guessing throughout, plus all the characters were very likable, and you really start to root for Ben and his family!. It has plenty of disturbing moments, and the film really shocked me at times, plus, it's extremely well made on a low budget!. This is one creepy underrated gem, with chilling performances and a fantastic finale!, i highly recommend this one!. The Direction is very good!. Bernard McEveety does a very good job here, with great camera work, creating a lot of creepy atmosphere, and keeping the film at a very fast pace!. Ther is a little bit of blood and gore. We get a severed leg,lots of bloody corpses,bloody slit throat, slicing and dicing,decapitation, and an impaling. The Acting is excellent!. Strother Martin is fantastic here! as the Satan worshiper, he is extremely creepy, very convincing, was quite chilling, was extremely intense, seemed to be enjoying himself, and just did a fantastic job overall!. Charles Bateman is great as the Dad, he was very caring, very likable, and gave a good show!, i liked him lots. L.Q. Jones is awesome as the Sheriff, he was funny, on top of things, looked very young, had a cool character, and just did an awesome job overall!. Ahna Capri is good as the girlfriend and did what she had to do pretty well. Charles Robinson overacted to the extreme as the Priest and didn't convince me one bit!, and that laugh of his was especially bad. Geri Reischl is actually decent as the daughter, she was somewhat likable, and only got on my nerves a couple times, i rather liked her. Alvy Moore was goofy, but very likable in his role as Tobey i dug him!. Rest of the cast do good. Overall i highly recommend it!. ***1/2 out of 5</td>\n",
       "      <td>[one, creepy, underrated, Gem, chilling, performances, fantastic, finale, characters, great, story, awesome, plus, thought, ending, really, cool, plot, great, never, bored, plus, child, actors, bad, gave, creeps, happened, space, channel, ago, decided, check, tape, read, good, reviews, fellow, horror, fans, must, say, agree, creepy, suspenseful, plus, Strother, Martin, fantastic, role, Satan, worshiper, tons, creepy, atmosphere, keeps, guessing, throughout, plus, characters, likable, really, start, root, Ben, family, plenty, disturbing, moments, film, really, shocked, times, plus, extremely, well, made, low, budget, one, creepy, underrated, gem, chilling, performances, fantastic, finale, highly, recommend, one, Direction, good, Bernard, McEveety, good, job, great, camera, work, creating, ...]</td>\n",
       "      <td>4.142082</td>\n",
       "      <td>1.095047</td>\n",
       "      <td>0.971536</td>\n",
       "      <td>-0.854129</td>\n",
       "      <td>[one, creepi, underr, gem, chill, perform, fantast, final, charact, great, stori, awesom, plu, thought, end, realli, cool, plot, great, never, bore, plu, child, actor, bad, gave, creep, happen, space, channel, ago, decid, check, tape, read, good, review, fellow, horror, fan, must, say, agre, creepi, suspens, plu, strother, martin, fantast, role, satan, worship, ton, creepi, atmospher, keep, guess, throughout, plu, charact, likabl, realli, start, root, ben, famili, plenti, disturb, moment, film, realli, shock, time, plu, extrem, well, made, low, budget, one, creepi, underr, gem, chill, perform, fantast, final, highli, recommend, one, direct, good, bernard, mceveeti, good, job, great, camera, work, creat, ...]</td>\n",
       "    </tr>\n",
       "    <tr>\n",
       "      <th>28392</th>\n",
       "      <td>The final chapter in the Hanzo the Razor trilogy provides fitting closure for this entertaining series of samuraisploitation. Inoue replaces Yasuzu Masumura (Blind Beast, Red Angel, Manji) in the director's chair, but the style is pretty much the same, perhaps due to Shintaro Katsu serving as the producer, apart from the titular antihero.&lt;br /&gt;&lt;br /&gt;Hanzo uncovers a female ghost who is guarding treasure hidden in the bottom of the lake. Of course, Hanzo being Hanzo, he's not put off by the fact she's a ghost, so he proceeds to rape... ahem, interrogate her, using the now familiar revolving net device. The plot takes through a series of blind monks who also doubletime as loansharks, corrupt officials, promiscuous wives and the necessary hack and slash. Hanzo's superior officer, Onishi, and his two servants, provide the typical comedic notes, and generally, it's business as usual.&lt;br /&gt;&lt;br /&gt;Significantly less convoluted and easier to follow than the first (which is all over the place and a bit of a mess), less stylish, dramatic and bloody than the second (arguably the finest in the Hanzo series), but still entertaining and worthwhile on its own merits. Complete with trademark training sequences, the obligatory rape, swordfights, and a mystery Hanzo is called upon to investigate, this will ultimately satisfy the fans.</td>\n",
       "      <td>[final, chapter, Hanzo, Razor, trilogy, provides, fitting, closure, entertaining, series, samuraisploitation, Inoue, replaces, Yasuzu, Masumura, Blind, Beast, Red, Angel, Manji, directors, chair, style, pretty, much, perhaps, due, Shintaro, Katsu, serving, producer, apart, titular, antiherobr, br, Hanzo, uncovers, female, ghost, guarding, treasure, hidden, bottom, lake, course, Hanzo, Hanzo, hes, put, fact, shes, ghost, proceeds, rape, ahem, interrogate, using, familiar, revolving, net, device, plot, takes, series, blind, monks, also, doubletime, loansharks, corrupt, officials, promiscuous, wives, necessary, hack, slash, Hanzos, superior, officer, Onishi, two, servants, provide, typical, comedic, notes, generally, business, usualbr, br, Significantly, less, convoluted, easier, follow, first, place, bit, mess, less, ...]</td>\n",
       "      <td>0.311404</td>\n",
       "      <td>0.235657</td>\n",
       "      <td>0.049631</td>\n",
       "      <td>-0.315491</td>\n",
       "      <td>[final, chapter, hanzo, razor, trilog, provid, fit, closur, entertain, seri, samuraisploit, inou, replac, yasuzu, masumura, blind, beast, red, angel, manji, director, chair, style, pretti, much, perhap, due, shintaro, katsu, serv, produc, apart, titular, antiherobr, br, hanzo, uncov, femal, ghost, guard, treasur, hidden, bottom, lake, cours, hanzo, hanzo, he, put, fact, she, ghost, proce, rape, ahem, interrog, use, familiar, revolv, net, devic, plot, take, seri, blind, monk, also, doubletim, loanshark, corrupt, offici, promiscu, wive, necessari, hack, slash, hanzo, superior, offic, onishi, two, servant, provid, typic, comed, note, gener, busi, usualbr, br, significantli, less, convolut, easier, follow, first, place, bit, mess, less, ...]</td>\n",
       "    </tr>\n",
       "    <tr>\n",
       "      <th>5776</th>\n",
       "      <td>I just saw this movie and all I can say is, where are the drive in's these days. This seems like it would have been a great 2nd feature at a drive in in 1977 (maybe playing with one of those Joan Collins movies), but it's only worth watching now if you're feeling nostalgic for the 70's. Silly plot that is full of holes, but it does remind one of the era it was made in. Interesting to see Melanie Griffith so young and Anne Lockhart is quite attractive, though not much of an actress. In fact, there is not much acting going on in this movie at all. It's sort of a Dukes of Hazzard adventure without a twang or a 1969 Dodge charger jumping over stuff in the Woods. But there is a Mecrury Comet jumping over a garbage dump in this one!</td>\n",
       "      <td>[saw, movie, say, drive, ins, days, seems, like, would, great, 2nd, feature, drive, 1977, maybe, playing, one, Joan, Collins, movies, worth, watching, youre, feeling, nostalgic, 70s, Silly, plot, full, holes, remind, one, era, made, Interesting, see, Melanie, Griffith, young, Anne, Lockhart, quite, attractive, though, much, actress, fact, much, acting, going, movie, sort, Dukes, Hazzard, adventure, without, twang, 1969, Dodge, charger, jumping, stuff, Woods, Mecrury, Comet, jumping, garbage, dump, one]</td>\n",
       "      <td>-0.613243</td>\n",
       "      <td>-0.623733</td>\n",
       "      <td>-0.579433</td>\n",
       "      <td>0.223148</td>\n",
       "      <td>[saw, movi, say, drive, in, day, seem, like, would, great, 2nd, featur, drive, 1977, mayb, play, one, joan, collin, movi, worth, watch, your, feel, nostalg, 70, silli, plot, full, hole, remind, one, era, made, interest, see, melani, griffith, young, ann, lockhart, quit, attract, though, much, actress, fact, much, act, go, movi, sort, duke, hazzard, adventur, without, twang, 1969, dodg, charger, jump, stuff, wood, mecruri, comet, jump, garbag, dump, one]</td>\n",
       "    </tr>\n",
       "    <tr>\n",
       "      <th>24864</th>\n",
       "      <td>Cameron Diaz is a woman who is married to a judge, played by Harvey Keitel, whose life is fine until an ex shows up and things get a little complicated.. While I was watching this movie there were several times i asked myself why I was doing so..because the movie is so ridiculous and blah and poorly scripted without any believability. Nor does the audience really car what happens..Even the lovely Cameron can't save this one on a scale of one to ten..2</td>\n",
       "      <td>[Cameron, Diaz, woman, married, judge, played, Harvey, Keitel, whose, life, fine, ex, shows, things, get, little, complicated, watching, movie, several, times, asked, sobecause, movie, ridiculous, blah, poorly, scripted, without, believability, audience, really, car, happensEven, lovely, Cameron, cant, save, one, scale, one, ten2]</td>\n",
       "      <td>-1.009520</td>\n",
       "      <td>-0.623733</td>\n",
       "      <td>-0.872274</td>\n",
       "      <td>-0.854129</td>\n",
       "      <td>[cameron, diaz, woman, marri, judg, play, harvey, keitel, whose, life, fine, ex, show, thing, get, littl, complic, watch, movi, sever, time, ask, sobecaus, movi, ridicul, blah, poorli, script, without, believ, audienc, realli, car, happenseven, love, cameron, cant, save, one, scale, one, ten2]</td>\n",
       "    </tr>\n",
       "    <tr>\n",
       "      <th>7756</th>\n",
       "      <td>Is it a good idea to use live animals for department store window displays?&lt;br /&gt;&lt;br /&gt;No, and here's why....&lt;br /&gt;&lt;br /&gt;In \"Hare Conditioned\" the sale that Bugs is helping promote is over and the store manager (Nelson) is transferring him to a new department: taxidermy. Naturally, Bugs objects and the fun begins.&lt;br /&gt;&lt;br /&gt;using nearly every department in the store (children's wear, sports, shoes, costumes, women's nightgowns - don't ask.), Bugs comes out on top at every turn, even referring to the manager as \"The Great GilderSNEEZE\". Even when trapped in the confines of an elevator, Bugs makes the best of the situation.&lt;br /&gt;&lt;br /&gt;Director Jones is on top of his pictorial game as always, as are Blanc (as Bugs, natch) and Nelson (the manager - who DOES sound like radio mainstay Gildersleeves - go ask your grand-parents).&lt;br /&gt;&lt;br /&gt;And a sage word of advice: when confronted by a fuzzy-looking woman wanting to try on bathroom slippers, always check her ears.&lt;br /&gt;&lt;br /&gt;Ten stars for \"Hare Conditioner\", the best argument yet for animal labor laws.</td>\n",
       "      <td>[good, idea, use, live, animals, department, store, window, displaysbr, br, heres, whybr, br, Hare, Conditioned, sale, Bugs, helping, promote, store, manager, Nelson, transferring, new, department, taxidermy, Naturally, Bugs, objects, fun, beginsbr, br, using, nearly, every, department, store, childrens, wear, sports, shoes, costumes, womens, nightgowns, dont, ask, Bugs, comes, top, every, turn, even, referring, manager, Great, GilderSNEEZE, Even, trapped, confines, elevator, Bugs, makes, best, situationbr, br, Director, Jones, top, pictorial, game, always, Blanc, Bugs, natch, Nelson, manager, sound, like, radio, mainstay, Gildersleeves, go, ask, grandparentsbr, br, sage, word, advice, confronted, fuzzylooking, woman, wanting, try, bathroom, slippers, always, check, earsbr, br, Ten, ...]</td>\n",
       "      <td>-0.084873</td>\n",
       "      <td>-0.378193</td>\n",
       "      <td>-0.145596</td>\n",
       "      <td>-0.854129</td>\n",
       "      <td>[good, idea, use, live, anim, depart, store, window, displaysbr, br, here, whybr, br, hare, condit, sale, bug, help, promot, store, manag, nelson, transfer, new, depart, taxidermi, natur, bug, object, fun, beginsbr, br, use, nearli, everi, depart, store, children, wear, sport, shoe, costum, women, nightgown, dont, ask, bug, come, top, everi, turn, even, refer, manag, great, gildersneez, even, trap, confin, elev, bug, make, best, situationbr, br, director, jone, top, pictori, game, alway, blanc, bug, natch, nelson, manag, sound, like, radio, mainstay, gildersleev, go, ask, grandparentsbr, br, sage, word, advic, confront, fuzzylook, woman, want, tri, bathroom, slipper, alway, check, earsbr, br, ten, ...]</td>\n",
       "    </tr>\n",
       "  </tbody>\n",
       "</table>\n",
       "<p>32000 rows × 7 columns</p>\n",
       "</div>"
      ],
      "text/plain": [
       "                                                                                                                                                                                                                                                                                                                                                                                                                                                                                                                                                                                                                                                                                                                                                                                                                                                                                                                                                                                                                                                                                                                                                                                                                                                                                                                                                                                                                                                                                                                                                                                                                                                                                                                                                                                                                                                                                                                                                                                                                                                                                                                                                                                                                                                                                                                                                                                                         review  \\\n",
       "11794                                                                                                                                                                                                                                                                                                                                                                                                                                                                                                                                                                                                                                                                                                                                                                                                                                                                                                                                                                                                                                                                                                                                                                                                                                                                                                                                                                                                                                                       With no fault to the actors (they all put on great performances), the overall story was not very well executed. The movie opens with a great zinger: a crazy old guy forces a young Aborigine girl's car off the road. But then, we're forced to endure 40 minutes of character development with an entirely new group of characters ... and we don't know why until the 40 minutes are up. It turns out that they are the ones who eventually discover the girl's body ... and the story progresses from there.<br /><br />While the story does pick up at that point, it really goes nowhere. After 2 hours, I asked myself: was there a point to this, or was it just to see the characters struggle with accusations of racism and stupidity of how they handled the discovery? The story was ultimately unsatisfying and felt unfinished. While it is well acted, there's not a strong enough backbone in the film to warrant recommending it.   \n",
       "24925                                                                                                                                                                                                                                                                                                                                                                                                                                                                                                                                                                                                                                                                                                                                                                                                                                                                                                                                                                                                                                                                                                                                                                                                     The first thing I thought when I saw this films was: It is not really a film, at least it is not what we imagine spontaneously when we hear the word \"film\". it is entirely symbolic, everything in it has a figurative meaning. So if you are not used to express thing in a symbolic way, you will find it strange, if you are not acquainted with philosophy, religion, spiritual life, you will think it's just a fairy-tale... and even a weird one, chaotic. For me \"The legend of Zu\" is perfectly transparent. And I do like it. It tells us in images the story about the fight between light and darkness, the fight that is as old as humanity, and every one who is in search of the sens in this life is confronted with it. The film is obviously made by Buddhists. I am not a Buddhist. My religion and the vision of the world and human is different. But as far as we are all humans and have the same human nature we necessarily have common experiences and can understand each other. It is a really beautiful film! And I which we had more films like this - films that have a meaning. There are too many empty stories which are good only to make time pass more quickly.   \n",
       "28578                                                                                                                                                                                                                                                                                                                                                                                                                                             Post-feminist depiction of cruelty and sadism.<br /><br />Spoiler alert! <br /><br />This underrated gem of a film tells the story of Flavia, a Fifteenth Century girl of Noble birth walled up in a convent after defining her father and indeed the whole of Medieval Christian society by viewing a fallen Islamic warrior as a human rather than demonic figure.<br /><br />Unable to accept the patriarchal rule of the convent (explicitly stated in a scene where the Bishop arrives flanked by soldiers and monks) Flavia begins to explicitly question the society in which she finds herself and, through butting up against a whole system of subjugation, repression and violence, inevitably brings a tragic end not only to herself but all those around her.<br /><br />Billed as a piece of nunsploitation this is far from the truth. This is a film depiction the consequences of violence, the effects of patriarchal dominance, the nature of rebellion and the corruption of the human spirit.<br /><br />I described it in the title of this piece as 'post-feminist' and in the end Flavia's triumphs must always be corrupted, compromised and perverted by men. Even Flavia's gruesome end is perpetrated by men for men (the women turn away and only the monks look on without horror.<br /><br />As to the much discussed violence: this is a depiction of the effects of violence and the horrors of a world driven mad by religious excess. To have shied away from the violence would have limited the film's impact, would have cheapened the film and allowed it to be assimilated within the Patriarchal discourse it is exposing. In addition it is a realistic portrait of medieval society.<br /><br />Beautifully filmed, brilliantly acted (notably by Florinda Bolkin and Maria Casares), containing a wonderful score by piovani and still challenging after all these years Flavia is a classic of European Cinema.   \n",
       "13987                                                                                                                                                                                                                                                                                                                                                                                                                                                                                                                                                                                                                                                                                                                                                                                                                                                                                                                                                                                                                                                                                                                                                                                                                                                                                                                                                                                                                                                                                                                                                                                                                                                                                               OMG this is one of the worst films iv ever seen and iv seen a lot I'm a Film student. I don't understand why Angelina Jolie would be in this movie? Did she need the money that badly? I love AJ and have seen almost everything shes ever been in so i watched this 2 tick another one off. It was SOO bad! not even good bad, just bad bad. It had 1 or 2 funny little moments but all in all it was bad n a waste of 101 minutes. I cant even say AJ looked good in it because well she didn't. The plot is predictable unless you r expecting a re-telling of Romeo and Juliet then its not. All round disappointing. Maybe if your 12 this could be a good film otherwise I really don't recommend it.   \n",
       "7693                                                                                                                                                                                                                                                                                                                                                                                                                                                                                                                                                                                                                                                                                                                                                                                                                                                                                                                                                                                                                                                                                                                                                                                                                                                                                                                                                                                                                                                                                                                                                                                                                   The Box is a film with great potential, but the makers totally misused that potential. The film seemed to take for ever, because of the boring family dinners and scenes about school and job-dialogs between the action. Those scenes could and must be deleted in my opinion to keep up the tensity and thrill. The philosophy of human free will has potential and seems to referring to the philosophy of Thomas Hobbes (1588-1679), but we find ourselves regretfully struck with magic and nosebleeds, were even Harry Potter would flunked his class with!<br /><br />Probably the best part was that moment when Norma Lewis (Cameron Diaz)has been shot to death, by her loving and caring husband as an act of human free will. I wonder how Hobbes would react if he could...   \n",
       "...                                                                                                                                                                                                                                                                                                                                                                                                                                                                                                                                                                                                                                                                                                                                                                                                                                                                                                                                                                                                                                                                                                                                                                                                                                                                                                                                                                                                                                                                                                                                                                                                                                                                                                                                                                                                                                                                                                                                                                                                                                                                                                                                                                                                                                                                                                                                                                                                         ...   \n",
       "27517  This is one creepy underrated Gem with chilling performances and a fantastic finale!. All the characters are great, and the story was awesome, plus i thought the ending was really cool!. The plot was great, and it never bored me, plus while the child actors were bad, they gave me the creeps!. This happened to be on the space channel a while ago, so i decided to check it out and tape it, i read some good reviews from fellow horror fans, i must say i agree with them, it's very creepy, and suspenseful, plus Strother Martin, was fantastic in his role, as the Satan worshiper. It has tons of creepy atmosphere, and it keeps you guessing throughout, plus all the characters were very likable, and you really start to root for Ben and his family!. It has plenty of disturbing moments, and the film really shocked me at times, plus, it's extremely well made on a low budget!. This is one creepy underrated gem, with chilling performances and a fantastic finale!, i highly recommend this one!. The Direction is very good!. Bernard McEveety does a very good job here, with great camera work, creating a lot of creepy atmosphere, and keeping the film at a very fast pace!. Ther is a little bit of blood and gore. We get a severed leg,lots of bloody corpses,bloody slit throat, slicing and dicing,decapitation, and an impaling. The Acting is excellent!. Strother Martin is fantastic here! as the Satan worshiper, he is extremely creepy, very convincing, was quite chilling, was extremely intense, seemed to be enjoying himself, and just did a fantastic job overall!. Charles Bateman is great as the Dad, he was very caring, very likable, and gave a good show!, i liked him lots. L.Q. Jones is awesome as the Sheriff, he was funny, on top of things, looked very young, had a cool character, and just did an awesome job overall!. Ahna Capri is good as the girlfriend and did what she had to do pretty well. Charles Robinson overacted to the extreme as the Priest and didn't convince me one bit!, and that laugh of his was especially bad. Geri Reischl is actually decent as the daughter, she was somewhat likable, and only got on my nerves a couple times, i rather liked her. Alvy Moore was goofy, but very likable in his role as Tobey i dug him!. Rest of the cast do good. Overall i highly recommend it!. ***1/2 out of 5   \n",
       "28392                                                                                                                                                                                                                                                                                                                                                                                                                                                                                                                                                                                                                                                                                                                                                                                                                                                                                                                                                                                                                 The final chapter in the Hanzo the Razor trilogy provides fitting closure for this entertaining series of samuraisploitation. Inoue replaces Yasuzu Masumura (Blind Beast, Red Angel, Manji) in the director's chair, but the style is pretty much the same, perhaps due to Shintaro Katsu serving as the producer, apart from the titular antihero.<br /><br />Hanzo uncovers a female ghost who is guarding treasure hidden in the bottom of the lake. Of course, Hanzo being Hanzo, he's not put off by the fact she's a ghost, so he proceeds to rape... ahem, interrogate her, using the now familiar revolving net device. The plot takes through a series of blind monks who also doubletime as loansharks, corrupt officials, promiscuous wives and the necessary hack and slash. Hanzo's superior officer, Onishi, and his two servants, provide the typical comedic notes, and generally, it's business as usual.<br /><br />Significantly less convoluted and easier to follow than the first (which is all over the place and a bit of a mess), less stylish, dramatic and bloody than the second (arguably the finest in the Hanzo series), but still entertaining and worthwhile on its own merits. Complete with trademark training sequences, the obligatory rape, swordfights, and a mystery Hanzo is called upon to investigate, this will ultimately satisfy the fans.   \n",
       "5776                                                                                                                                                                                                                                                                                                                                                                                                                                                                                                                                                                                                                                                                                                                                                                                                                                                                                                                                                                                                                                                                                                                                                                                                                                                                                                                                                                                                                                                                                                                                                                                                                                           I just saw this movie and all I can say is, where are the drive in's these days. This seems like it would have been a great 2nd feature at a drive in in 1977 (maybe playing with one of those Joan Collins movies), but it's only worth watching now if you're feeling nostalgic for the 70's. Silly plot that is full of holes, but it does remind one of the era it was made in. Interesting to see Melanie Griffith so young and Anne Lockhart is quite attractive, though not much of an actress. In fact, there is not much acting going on in this movie at all. It's sort of a Dukes of Hazzard adventure without a twang or a 1969 Dodge charger jumping over stuff in the Woods. But there is a Mecrury Comet jumping over a garbage dump in this one!   \n",
       "24864                                                                                                                                                                                                                                                                                                                                                                                                                                                                                                                                                                                                                                                                                                                                                                                                                                                                                                                                                                                                                                                                                                                                                                                                                                                                                                                                                                                                                                                                                                                                                                                                                                                                                                                                                                                                                                                                                                                                   Cameron Diaz is a woman who is married to a judge, played by Harvey Keitel, whose life is fine until an ex shows up and things get a little complicated.. While I was watching this movie there were several times i asked myself why I was doing so..because the movie is so ridiculous and blah and poorly scripted without any believability. Nor does the audience really car what happens..Even the lovely Cameron can't save this one on a scale of one to ten..2   \n",
       "7756                                                                                                                                                                                                                                                                                                                                                                                                                                                                                                                                                                                                                                                                                                                                                                                                                                                                                                                                                                                                                                                                                                                                                                                                                                                                                                    Is it a good idea to use live animals for department store window displays?<br /><br />No, and here's why....<br /><br />In \"Hare Conditioned\" the sale that Bugs is helping promote is over and the store manager (Nelson) is transferring him to a new department: taxidermy. Naturally, Bugs objects and the fun begins.<br /><br />using nearly every department in the store (children's wear, sports, shoes, costumes, women's nightgowns - don't ask.), Bugs comes out on top at every turn, even referring to the manager as \"The Great GilderSNEEZE\". Even when trapped in the confines of an elevator, Bugs makes the best of the situation.<br /><br />Director Jones is on top of his pictorial game as always, as are Blanc (as Bugs, natch) and Nelson (the manager - who DOES sound like radio mainstay Gildersleeves - go ask your grand-parents).<br /><br />And a sage word of advice: when confronted by a fuzzy-looking woman wanting to try on bathroom slippers, always check her ears.<br /><br />Ten stars for \"Hare Conditioner\", the best argument yet for animal labor laws.   \n",
       "\n",
       "                                                                                                                                                                                                                                                                                                                                                                                                                                                                                                                                                                                                                                                                                                                                                                                                                                                                                                    cleaned_review  \\\n",
       "11794                                                                                                                                                                                                                                                         [fault, actors, put, great, performances, overall, story, well, executed, movie, opens, great, zinger, crazy, old, guy, forces, young, Aborigine, girls, car, road, forced, endure, 40, minutes, character, development, entirely, new, group, characters, dont, know, 40, minutes, turns, ones, eventually, discover, girls, body, story, progresses, therebr, br, story, pick, point, really, goes, nowhere, 2, hours, asked, point, see, characters, struggle, accusations, racism, stupidity, handled, discovery, story, ultimately, unsatisfying, felt, unfinished, well, acted, theres, strong, enough, backbone, film, warrant, recommending]   \n",
       "24925                                                                                                                                                      [first, thing, thought, saw, films, really, film, least, imagine, spontaneously, hear, word, film, entirely, symbolic, everything, figurative, meaning, used, express, thing, symbolic, way, find, strange, acquainted, philosophy, religion, spiritual, life, think, fairytale, even, weird, one, chaotic, legend, Zu, perfectly, transparent, like, tells, us, images, story, fight, light, darkness, fight, old, humanity, every, one, search, sens, life, confronted, film, obviously, made, Buddhists, Buddhist, religion, vision, world, human, different, far, humans, human, nature, necessarily, common, experiences, understand, really, beautiful, film, films, like, films, meaning, many, empty, stories, good, make, time, pass, quickly]   \n",
       "28578  [Postfeminist, depiction, cruelty, sadismbr, br, Spoiler, alert, br, br, underrated, gem, film, tells, story, Flavia, Fifteenth, Century, girl, Noble, birth, walled, convent, defining, father, indeed, whole, Medieval, Christian, society, viewing, fallen, Islamic, warrior, human, rather, demonic, figurebr, br, Unable, accept, patriarchal, rule, convent, explicitly, stated, scene, Bishop, arrives, flanked, soldiers, monks, Flavia, begins, explicitly, question, society, finds, butting, whole, system, subjugation, repression, violence, inevitably, brings, tragic, end, around, herbr, br, Billed, piece, nunsploitation, far, truth, film, depiction, consequences, violence, effects, patriarchal, dominance, nature, rebellion, corruption, human, spiritbr, br, described, title, piece, postfeminist, end, Flavias, triumphs, must, always, corrupted, compromised, perverted, ...]   \n",
       "13987                                                                                                                                                                                                                                                                                                                                                                   [OMG, one, worst, films, iv, ever, seen, iv, seen, lot, Im, Film, student, dont, understand, Angelina, Jolie, would, movie, need, money, badly, love, AJ, seen, almost, everything, shes, ever, watched, 2, tick, another, one, SOO, bad, even, good, bad, bad, bad, 1, 2, funny, little, moments, bad, n, waste, 101, minutes, cant, even, say, AJ, looked, good, well, didnt, plot, predictable, unless, r, expecting, retelling, Romeo, Juliet, round, disappointing, Maybe, 12, could, good, film, otherwise, really, dont, recommend]   \n",
       "7693                                                                                                                                                                                                                                                                                                                          [Box, film, great, potential, makers, totally, misused, potential, film, seemed, take, ever, boring, family, dinners, scenes, school, jobdialogs, action, scenes, could, must, deleted, opinion, keep, tensity, thrill, philosophy, human, free, potential, seems, referring, philosophy, Thomas, Hobbes, 15881679, find, regretfully, struck, magic, nosebleeds, even, Harry, Potter, would, flunked, class, withbr, br, Probably, best, part, moment, Norma, Lewis, Cameron, Diazhas, shot, death, loving, caring, husband, act, human, free, wonder, Hobbes, would, react, could]   \n",
       "...                                                                                                                                                                                                                                                                                                                                                                                                                                                                                                                                                                                                                                                                                                                                                                                                                                                                                                            ...   \n",
       "27517                                                                          [one, creepy, underrated, Gem, chilling, performances, fantastic, finale, characters, great, story, awesome, plus, thought, ending, really, cool, plot, great, never, bored, plus, child, actors, bad, gave, creeps, happened, space, channel, ago, decided, check, tape, read, good, reviews, fellow, horror, fans, must, say, agree, creepy, suspenseful, plus, Strother, Martin, fantastic, role, Satan, worshiper, tons, creepy, atmosphere, keeps, guessing, throughout, plus, characters, likable, really, start, root, Ben, family, plenty, disturbing, moments, film, really, shocked, times, plus, extremely, well, made, low, budget, one, creepy, underrated, gem, chilling, performances, fantastic, finale, highly, recommend, one, Direction, good, Bernard, McEveety, good, job, great, camera, work, creating, ...]   \n",
       "28392                                              [final, chapter, Hanzo, Razor, trilogy, provides, fitting, closure, entertaining, series, samuraisploitation, Inoue, replaces, Yasuzu, Masumura, Blind, Beast, Red, Angel, Manji, directors, chair, style, pretty, much, perhaps, due, Shintaro, Katsu, serving, producer, apart, titular, antiherobr, br, Hanzo, uncovers, female, ghost, guarding, treasure, hidden, bottom, lake, course, Hanzo, Hanzo, hes, put, fact, shes, ghost, proceeds, rape, ahem, interrogate, using, familiar, revolving, net, device, plot, takes, series, blind, monks, also, doubletime, loansharks, corrupt, officials, promiscuous, wives, necessary, hack, slash, Hanzos, superior, officer, Onishi, two, servants, provide, typical, comedic, notes, generally, business, usualbr, br, Significantly, less, convoluted, easier, follow, first, place, bit, mess, less, ...]   \n",
       "5776                                                                                                                                                                                                                                                                                                                                                                                   [saw, movie, say, drive, ins, days, seems, like, would, great, 2nd, feature, drive, 1977, maybe, playing, one, Joan, Collins, movies, worth, watching, youre, feeling, nostalgic, 70s, Silly, plot, full, holes, remind, one, era, made, Interesting, see, Melanie, Griffith, young, Anne, Lockhart, quite, attractive, though, much, actress, fact, much, acting, going, movie, sort, Dukes, Hazzard, adventure, without, twang, 1969, Dodge, charger, jumping, stuff, Woods, Mecrury, Comet, jumping, garbage, dump, one]   \n",
       "24864                                                                                                                                                                                                                                                                                                                                                                                                                                                                                                                                                                 [Cameron, Diaz, woman, married, judge, played, Harvey, Keitel, whose, life, fine, ex, shows, things, get, little, complicated, watching, movie, several, times, asked, sobecause, movie, ridiculous, blah, poorly, scripted, without, believability, audience, really, car, happensEven, lovely, Cameron, cant, save, one, scale, one, ten2]   \n",
       "7756                                                                                [good, idea, use, live, animals, department, store, window, displaysbr, br, heres, whybr, br, Hare, Conditioned, sale, Bugs, helping, promote, store, manager, Nelson, transferring, new, department, taxidermy, Naturally, Bugs, objects, fun, beginsbr, br, using, nearly, every, department, store, childrens, wear, sports, shoes, costumes, womens, nightgowns, dont, ask, Bugs, comes, top, every, turn, even, referring, manager, Great, GilderSNEEZE, Even, trapped, confines, elevator, Bugs, makes, best, situationbr, br, Director, Jones, top, pictorial, game, always, Blanc, Bugs, natch, Nelson, manager, sound, like, radio, mainstay, Gildersleeves, go, ask, grandparentsbr, br, sage, word, advice, confronted, fuzzylooking, woman, wanting, try, bathroom, slippers, always, check, earsbr, br, Ten, ...]   \n",
       "\n",
       "          NrPos     NrNeg   NrWords       Nos  \\\n",
       "11794 -0.349058 -0.255423 -0.481820  0.761786   \n",
       "24925 -0.349058 -0.623733 -0.351669  1.839063   \n",
       "28578 -0.216966  0.726737  0.516006 -0.315491   \n",
       "13987 -0.481151  0.235657 -0.481820 -0.315491   \n",
       "7693  -0.216966 -0.623733 -0.557742 -0.854129   \n",
       "...         ...       ...       ...       ...   \n",
       "27517  4.142082  1.095047  0.971536 -0.854129   \n",
       "28392  0.311404  0.235657  0.049631 -0.315491   \n",
       "5776  -0.613243 -0.623733 -0.579433  0.223148   \n",
       "24864 -1.009520 -0.623733 -0.872274 -0.854129   \n",
       "7756  -0.084873 -0.378193 -0.145596 -0.854129   \n",
       "\n",
       "                                                                                                                                                                                                                                                                                                                                                                                                                                                                                                                                                                                                                                                                                                                                                                                                        Stem Words  \n",
       "11794                                                                                                                                                                                                                                           [fault, actor, put, great, perform, overal, stori, well, execut, movi, open, great, zinger, crazi, old, guy, forc, young, aborigin, girl, car, road, forc, endur, 40, minut, charact, develop, entir, new, group, charact, dont, know, 40, minut, turn, one, eventu, discov, girl, bodi, stori, progress, therebr, br, stori, pick, point, realli, goe, nowher, 2, hour, ask, point, see, charact, struggl, accus, racism, stupid, handl, discoveri, stori, ultim, unsatisfi, felt, unfinish, well, act, there, strong, enough, backbon, film, warrant, recommend]  \n",
       "24925                                                                                                                              [first, thing, thought, saw, film, realli, film, least, imagin, spontan, hear, word, film, entir, symbol, everyth, figur, mean, use, express, thing, symbol, way, find, strang, acquaint, philosophi, religion, spiritu, life, think, fairytal, even, weird, one, chaotic, legend, zu, perfectli, transpar, like, tell, us, imag, stori, fight, light, dark, fight, old, human, everi, one, search, sen, life, confront, film, obvious, made, buddhist, buddhist, religion, vision, world, human, differ, far, human, human, natur, necessarili, common, experi, understand, realli, beauti, film, film, like, film, mean, mani, empti, stori, good, make, time, pass, quickli]  \n",
       "28578  [postfeminist, depict, cruelti, sadismbr, br, spoiler, alert, br, br, underr, gem, film, tell, stori, flavia, fifteenth, centuri, girl, nobl, birth, wall, convent, defin, father, inde, whole, mediev, christian, societi, view, fallen, islam, warrior, human, rather, demon, figurebr, br, unabl, accept, patriarch, rule, convent, explicitli, state, scene, bishop, arriv, flank, soldier, monk, flavia, begin, explicitli, question, societi, find, but, whole, system, subjug, repress, violenc, inevit, bring, tragic, end, around, herbr, br, bill, piec, nunsploit, far, truth, film, depict, consequ, violenc, effect, patriarch, domin, natur, rebellion, corrupt, human, spiritbr, br, describ, titl, piec, postfeminist, end, flavia, triumph, must, alway, corrupt, compromis, pervert, ...]  \n",
       "13987                                                                                                                                                                                                                                                                                                     [omg, one, worst, film, iv, ever, seen, iv, seen, lot, im, film, student, dont, understand, angelina, joli, would, movi, need, money, badli, love, aj, seen, almost, everyth, she, ever, watch, 2, tick, anoth, one, soo, bad, even, good, bad, bad, bad, 1, 2, funni, littl, moment, bad, n, wast, 101, minut, cant, even, say, aj, look, good, well, didnt, plot, predict, unless, r, expect, retel, romeo, juliet, round, disappoint, mayb, 12, could, good, film, otherwis, realli, dont, recommend]  \n",
       "7693                                                                                                                                                                                                                                                                          [box, film, great, potenti, maker, total, misus, potenti, film, seem, take, ever, bore, famili, dinner, scene, school, jobdialog, action, scene, could, must, delet, opinion, keep, tensiti, thrill, philosophi, human, free, potenti, seem, refer, philosophi, thoma, hobb, 15881679, find, regret, struck, magic, noseble, even, harri, potter, would, flunk, class, withbr, br, probabl, best, part, moment, norma, lewi, cameron, diazha, shot, death, love, care, husband, act, human, free, wonder, hobb, would, react, could]  \n",
       "...                                                                                                                                                                                                                                                                                                                                                                                                                                                                                                                                                                                                                                                                                                                                                                                                            ...  \n",
       "27517                                                                [one, creepi, underr, gem, chill, perform, fantast, final, charact, great, stori, awesom, plu, thought, end, realli, cool, plot, great, never, bore, plu, child, actor, bad, gave, creep, happen, space, channel, ago, decid, check, tape, read, good, review, fellow, horror, fan, must, say, agre, creepi, suspens, plu, strother, martin, fantast, role, satan, worship, ton, creepi, atmospher, keep, guess, throughout, plu, charact, likabl, realli, start, root, ben, famili, plenti, disturb, moment, film, realli, shock, time, plu, extrem, well, made, low, budget, one, creepi, underr, gem, chill, perform, fantast, final, highli, recommend, one, direct, good, bernard, mceveeti, good, job, great, camera, work, creat, ...]  \n",
       "28392                                  [final, chapter, hanzo, razor, trilog, provid, fit, closur, entertain, seri, samuraisploit, inou, replac, yasuzu, masumura, blind, beast, red, angel, manji, director, chair, style, pretti, much, perhap, due, shintaro, katsu, serv, produc, apart, titular, antiherobr, br, hanzo, uncov, femal, ghost, guard, treasur, hidden, bottom, lake, cours, hanzo, hanzo, he, put, fact, she, ghost, proce, rape, ahem, interrog, use, familiar, revolv, net, devic, plot, take, seri, blind, monk, also, doubletim, loanshark, corrupt, offici, promiscu, wive, necessari, hack, slash, hanzo, superior, offic, onishi, two, servant, provid, typic, comed, note, gener, busi, usualbr, br, significantli, less, convolut, easier, follow, first, place, bit, mess, less, ...]  \n",
       "5776                                                                                                                                                                                                                                                                                                                                     [saw, movi, say, drive, in, day, seem, like, would, great, 2nd, featur, drive, 1977, mayb, play, one, joan, collin, movi, worth, watch, your, feel, nostalg, 70, silli, plot, full, hole, remind, one, era, made, interest, see, melani, griffith, young, ann, lockhart, quit, attract, though, much, actress, fact, much, act, go, movi, sort, duke, hazzard, adventur, without, twang, 1969, dodg, charger, jump, stuff, wood, mecruri, comet, jump, garbag, dump, one]  \n",
       "24864                                                                                                                                                                                                                                                                                                                                                                                                                                                                                                       [cameron, diaz, woman, marri, judg, play, harvey, keitel, whose, life, fine, ex, show, thing, get, littl, complic, watch, movi, sever, time, ask, sobecaus, movi, ridicul, blah, poorli, script, without, believ, audienc, realli, car, happenseven, love, cameron, cant, save, one, scale, one, ten2]  \n",
       "7756                                                                       [good, idea, use, live, anim, depart, store, window, displaysbr, br, here, whybr, br, hare, condit, sale, bug, help, promot, store, manag, nelson, transfer, new, depart, taxidermi, natur, bug, object, fun, beginsbr, br, use, nearli, everi, depart, store, children, wear, sport, shoe, costum, women, nightgown, dont, ask, bug, come, top, everi, turn, even, refer, manag, great, gildersneez, even, trap, confin, elev, bug, make, best, situationbr, br, director, jone, top, pictori, game, alway, blanc, bug, natch, nelson, manag, sound, like, radio, mainstay, gildersleev, go, ask, grandparentsbr, br, sage, word, advic, confront, fuzzylook, woman, want, tri, bathroom, slipper, alway, check, earsbr, br, ten, ...]  \n",
       "\n",
       "[32000 rows x 7 columns]"
      ]
     },
     "execution_count": 25,
     "metadata": {},
     "output_type": "execute_result"
    }
   ],
   "source": [
    "# Save the preprocessed data in a csv file to save time if we want to re-run only the following part\n",
    "X_train.to_csv(\"X_train.csv\", index=False)\n",
    "X_val.to_csv(\"X_val.csv\", index=False)\n",
    "X_test.to_csv(\"X_test.csv\", index=False)\n",
    "X_train"
   ]
  },
  {
   "cell_type": "markdown",
   "metadata": {
    "id": "aynOfLU_CE13"
   },
   "source": [
    "Making Embeddings"
   ]
  },
  {
   "cell_type": "markdown",
   "metadata": {
    "id": "XgSDNDIMHN4Y"
   },
   "source": [
    "When making the embeddings, we choose values of 4 for window and 1 for sg. 1 was chosen for sg to use SkipGram. The data has 40000 reviews, and even though this is sufficient to train a Word2Vec model, rare or domain-specific sentiment words may not be well captured by a CBOW. The window chosen was 4 because the sentiment is often localized in very few words."
   ]
  },
  {
   "cell_type": "code",
   "execution_count": 26,
   "metadata": {
    "id": "y8P105keGlkT"
   },
   "outputs": [],
   "source": [
    "reviews = list(X_train['Stem Words'])\n",
    "model = Word2Vec(\n",
    "    sentences=reviews,  # Tokenized data\n",
    "    vector_size=100,             # Embedding dimensionality\n",
    "    window=4,                    # Context window size\n",
    "    min_count=2,                 # Minimum frequency for words to be included\n",
    "    sg=1,                        # Use CBOW (set to 1 for Skip-Gram)\n",
    "    workers=4,                   # Number of threads for faster training\n",
    "    epochs=10                    # Number of passes over the data\n",
    ")\n",
    "\n",
    "# Save the model for future use\n",
    "model.save(\"word2vec_cbow.model\")"
   ]
  },
  {
   "cell_type": "code",
   "execution_count": 27,
   "metadata": {},
   "outputs": [
    {
     "data": {
      "text/plain": [
       "array([-0.0009694 ,  0.19847532, -0.08400735, -0.13118428,  0.40814745,\n",
       "       -0.17674711,  0.01580076,  0.34279191, -0.2369714 , -0.24268194,\n",
       "       -0.17975253, -0.53774995, -0.0188964 ,  0.32524678,  0.0413796 ,\n",
       "       -0.057226  ,  0.13068002,  0.2682956 , -0.20714618, -0.24078478,\n",
       "        0.15226355, -0.11574178,  0.16071515, -0.17458622,  0.03153089,\n",
       "       -0.14883302, -0.33633927,  0.2563716 , -0.40459186,  0.08784578,\n",
       "        0.31675297,  0.04309266, -0.13166523, -0.22508906, -0.12119685,\n",
       "        0.46627486,  0.39056936, -0.0638577 ,  0.06832714,  0.02203305,\n",
       "        0.29075542, -0.1774595 , -0.1122286 ,  0.01611961, -0.04348327,\n",
       "        0.22308953, -0.01685513, -0.41038564,  0.0225801 , -0.09462918,\n",
       "        0.18233944, -0.05162655, -0.02161762, -0.03642436, -0.09965254,\n",
       "        0.15291524,  0.21992181, -0.2658345 , -0.18769139,  0.2091243 ,\n",
       "       -0.01474115, -0.00814192,  0.15608463,  0.10830636, -0.23578224,\n",
       "        0.21923047,  0.15001787,  0.18081728, -0.20508568,  0.20794708,\n",
       "       -0.17648   , -0.1160977 ,  0.4895199 ,  0.295176  ,  0.09699598,\n",
       "       -0.05325114, -0.03574868,  0.00585719,  0.02611603,  0.24977112,\n",
       "       -0.44977415, -0.09525556, -0.18679501,  0.35793385,  0.03082802,\n",
       "       -0.21275839,  0.03916365,  0.06817964,  0.30226582, -0.18485488,\n",
       "        0.1519708 ,  0.1395252 ,  0.2188407 , -0.03607256,  0.41449705,\n",
       "        0.40529937, -0.09082798, -0.42766842,  0.17939878, -0.13850862],\n",
       "      dtype=float32)"
      ]
     },
     "execution_count": 27,
     "metadata": {},
     "output_type": "execute_result"
    }
   ],
   "source": [
    "model.wv['film']"
   ]
  },
  {
   "cell_type": "code",
   "execution_count": 28,
   "metadata": {},
   "outputs": [
    {
     "data": {
      "text/plain": [
       "[('movi', 0.8962374329566956),\n",
       " ('shortfilm', 0.7833355665206909),\n",
       " ('telemovi', 0.760982871055603),\n",
       " ('filmit', 0.7597492933273315),\n",
       " ('towelhead', 0.7572776079177856),\n",
       " ('cassavettess', 0.7563760280609131),\n",
       " ('filmbr', 0.7530413269996643),\n",
       " ('generalis', 0.748876690864563),\n",
       " ('directtodvd', 0.7481429576873779),\n",
       " ('swordsandsorceri', 0.7469770908355713)]"
      ]
     },
     "execution_count": 28,
     "metadata": {},
     "output_type": "execute_result"
    }
   ],
   "source": [
    "model.wv.most_similar('film')"
   ]
  },
  {
   "cell_type": "markdown",
   "metadata": {},
   "source": [
    "'film' and 'movi' (movie) have similar vectors indicating this embedding seems to have worked"
   ]
  },
  {
   "cell_type": "code",
   "execution_count": 29,
   "metadata": {
    "id": "ptHp7zLEqHwn"
   },
   "outputs": [],
   "source": [
    "def transform_review_to_vector(review, model): #Create 1 vector of the text based on the Word2Vec vectors of the words in the sentence\n",
    "    word_vectors = []\n",
    "    for word in review:\n",
    "        if word in model.wv:\n",
    "            word_vectors.append(model.wv[word])\n",
    "    if len(word_vectors) == 0:  # Handle case where no words are in vocabulary\n",
    "        return np.zeros(model.vector_size)\n",
    "    return np.mean(word_vectors, axis=0)"
   ]
  },
  {
   "cell_type": "markdown",
   "metadata": {},
   "source": [
    "## 4. Creating our FNN"
   ]
  },
  {
   "cell_type": "markdown",
   "metadata": {
    "id": "K2kUR_buzPFG"
   },
   "source": [
    "Developping models: Embeddings, Features, Embeddings + Features. The architecture chosen starts at a high number of neurons, and then goes down gradually over the layers, so that it extracts more and more high level features. The data is balanced (same ratio for positives and negatives), so we use accuracy for model selection. The number of neurons for the model with only features was reduced (8 -> 4 -> 2)"
   ]
  },
  {
   "cell_type": "code",
   "execution_count": 30,
   "metadata": {
    "colab": {
     "base_uri": "https://localhost:8080/"
    },
    "id": "4gjbEv7YPLPT",
    "outputId": "8a96d7d1-a150-4f4e-b691-c2180c8b4b4f"
   },
   "outputs": [
    {
     "data": {
      "text/plain": [
       "(32000, 7)"
      ]
     },
     "execution_count": 30,
     "metadata": {},
     "output_type": "execute_result"
    }
   ],
   "source": [
    "X_train.shape"
   ]
  },
  {
   "cell_type": "code",
   "execution_count": 31,
   "metadata": {
    "colab": {
     "base_uri": "https://localhost:8080/"
    },
    "id": "A-Et8djqzrPA",
    "outputId": "86702617-0f8d-458d-b6da-1a883892fd33"
   },
   "outputs": [
    {
     "name": "stdout",
     "output_type": "stream",
     "text": [
      "Epoch 1/50\n"
     ]
    },
    {
     "name": "stderr",
     "output_type": "stream",
     "text": [
      "C:\\Users\\kkasp\\anaconda3\\envs\\Text_mining\\Lib\\site-packages\\keras\\src\\layers\\core\\dense.py:87: UserWarning: Do not pass an `input_shape`/`input_dim` argument to a layer. When using Sequential models, prefer using an `Input(shape)` object as the first layer in the model instead.\n",
      "  super().__init__(activity_regularizer=activity_regularizer, **kwargs)\n"
     ]
    },
    {
     "name": "stdout",
     "output_type": "stream",
     "text": [
      "\u001b[1m500/500\u001b[0m \u001b[32m━━━━━━━━━━━━━━━━━━━━\u001b[0m\u001b[37m\u001b[0m \u001b[1m9s\u001b[0m 10ms/step - accuracy: 0.6860 - loss: 0.5611 - val_accuracy: 0.8666 - val_loss: 0.3264\n",
      "Epoch 2/50\n",
      "\u001b[1m500/500\u001b[0m \u001b[32m━━━━━━━━━━━━━━━━━━━━\u001b[0m\u001b[37m\u001b[0m \u001b[1m4s\u001b[0m 7ms/step - accuracy: 0.8457 - loss: 0.3737 - val_accuracy: 0.8677 - val_loss: 0.3172\n",
      "Epoch 3/50\n",
      "\u001b[1m500/500\u001b[0m \u001b[32m━━━━━━━━━━━━━━━━━━━━\u001b[0m\u001b[37m\u001b[0m \u001b[1m5s\u001b[0m 9ms/step - accuracy: 0.8534 - loss: 0.3549 - val_accuracy: 0.8730 - val_loss: 0.3065\n",
      "Epoch 4/50\n",
      "\u001b[1m500/500\u001b[0m \u001b[32m━━━━━━━━━━━━━━━━━━━━\u001b[0m\u001b[37m\u001b[0m \u001b[1m4s\u001b[0m 8ms/step - accuracy: 0.8562 - loss: 0.3483 - val_accuracy: 0.8687 - val_loss: 0.3097\n",
      "Epoch 5/50\n",
      "\u001b[1m500/500\u001b[0m \u001b[32m━━━━━━━━━━━━━━━━━━━━\u001b[0m\u001b[37m\u001b[0m \u001b[1m6s\u001b[0m 12ms/step - accuracy: 0.8560 - loss: 0.3459 - val_accuracy: 0.8717 - val_loss: 0.3039\n",
      "Epoch 6/50\n",
      "\u001b[1m500/500\u001b[0m \u001b[32m━━━━━━━━━━━━━━━━━━━━\u001b[0m\u001b[37m\u001b[0m \u001b[1m6s\u001b[0m 12ms/step - accuracy: 0.8575 - loss: 0.3409 - val_accuracy: 0.8749 - val_loss: 0.3036\n",
      "Epoch 7/50\n",
      "\u001b[1m500/500\u001b[0m \u001b[32m━━━━━━━━━━━━━━━━━━━━\u001b[0m\u001b[37m\u001b[0m \u001b[1m4s\u001b[0m 8ms/step - accuracy: 0.8604 - loss: 0.3397 - val_accuracy: 0.8733 - val_loss: 0.3167\n",
      "Epoch 8/50\n",
      "\u001b[1m500/500\u001b[0m \u001b[32m━━━━━━━━━━━━━━━━━━━━\u001b[0m\u001b[37m\u001b[0m \u001b[1m3s\u001b[0m 6ms/step - accuracy: 0.8612 - loss: 0.3347 - val_accuracy: 0.8752 - val_loss: 0.3000\n",
      "Epoch 9/50\n",
      "\u001b[1m500/500\u001b[0m \u001b[32m━━━━━━━━━━━━━━━━━━━━\u001b[0m\u001b[37m\u001b[0m \u001b[1m3s\u001b[0m 5ms/step - accuracy: 0.8590 - loss: 0.3362 - val_accuracy: 0.8716 - val_loss: 0.2986\n",
      "Epoch 10/50\n",
      "\u001b[1m500/500\u001b[0m \u001b[32m━━━━━━━━━━━━━━━━━━━━\u001b[0m\u001b[37m\u001b[0m \u001b[1m3s\u001b[0m 6ms/step - accuracy: 0.8651 - loss: 0.3287 - val_accuracy: 0.8751 - val_loss: 0.3048\n",
      "Epoch 11/50\n",
      "\u001b[1m500/500\u001b[0m \u001b[32m━━━━━━━━━━━━━━━━━━━━\u001b[0m\u001b[37m\u001b[0m \u001b[1m3s\u001b[0m 5ms/step - accuracy: 0.8618 - loss: 0.3289 - val_accuracy: 0.8737 - val_loss: 0.3053\n",
      "Epoch 12/50\n",
      "\u001b[1m500/500\u001b[0m \u001b[32m━━━━━━━━━━━━━━━━━━━━\u001b[0m\u001b[37m\u001b[0m \u001b[1m3s\u001b[0m 6ms/step - accuracy: 0.8627 - loss: 0.3282 - val_accuracy: 0.8734 - val_loss: 0.2999\n",
      "Epoch 1/50\n"
     ]
    },
    {
     "name": "stderr",
     "output_type": "stream",
     "text": [
      "C:\\Users\\kkasp\\anaconda3\\envs\\Text_mining\\Lib\\site-packages\\keras\\src\\layers\\core\\dense.py:87: UserWarning: Do not pass an `input_shape`/`input_dim` argument to a layer. When using Sequential models, prefer using an `Input(shape)` object as the first layer in the model instead.\n",
      "  super().__init__(activity_regularizer=activity_regularizer, **kwargs)\n"
     ]
    },
    {
     "name": "stdout",
     "output_type": "stream",
     "text": [
      "\u001b[1m500/500\u001b[0m \u001b[32m━━━━━━━━━━━━━━━━━━━━\u001b[0m\u001b[37m\u001b[0m \u001b[1m5s\u001b[0m 5ms/step - accuracy: 0.5674 - loss: 0.6787 - val_accuracy: 0.7286 - val_loss: 0.6136\n",
      "Epoch 2/50\n",
      "\u001b[1m500/500\u001b[0m \u001b[32m━━━━━━━━━━━━━━━━━━━━\u001b[0m\u001b[37m\u001b[0m \u001b[1m2s\u001b[0m 4ms/step - accuracy: 0.6005 - loss: 0.6510 - val_accuracy: 0.7344 - val_loss: 0.5927\n",
      "Epoch 3/50\n",
      "\u001b[1m500/500\u001b[0m \u001b[32m━━━━━━━━━━━━━━━━━━━━\u001b[0m\u001b[37m\u001b[0m \u001b[1m2s\u001b[0m 4ms/step - accuracy: 0.6184 - loss: 0.6355 - val_accuracy: 0.7350 - val_loss: 0.5870\n",
      "Epoch 4/50\n",
      "\u001b[1m500/500\u001b[0m \u001b[32m━━━━━━━━━━━━━━━━━━━━\u001b[0m\u001b[37m\u001b[0m \u001b[1m3s\u001b[0m 5ms/step - accuracy: 0.6173 - loss: 0.6340 - val_accuracy: 0.7352 - val_loss: 0.5784\n",
      "Epoch 5/50\n",
      "\u001b[1m500/500\u001b[0m \u001b[32m━━━━━━━━━━━━━━━━━━━━\u001b[0m\u001b[37m\u001b[0m \u001b[1m3s\u001b[0m 6ms/step - accuracy: 0.6271 - loss: 0.6262 - val_accuracy: 0.7383 - val_loss: 0.5747\n",
      "Epoch 6/50\n",
      "\u001b[1m500/500\u001b[0m \u001b[32m━━━━━━━━━━━━━━━━━━━━\u001b[0m\u001b[37m\u001b[0m \u001b[1m2s\u001b[0m 5ms/step - accuracy: 0.6322 - loss: 0.6218 - val_accuracy: 0.7356 - val_loss: 0.5728\n",
      "Epoch 7/50\n",
      "\u001b[1m500/500\u001b[0m \u001b[32m━━━━━━━━━━━━━━━━━━━━\u001b[0m\u001b[37m\u001b[0m \u001b[1m3s\u001b[0m 6ms/step - accuracy: 0.6299 - loss: 0.6233 - val_accuracy: 0.7374 - val_loss: 0.5674\n",
      "Epoch 8/50\n",
      "\u001b[1m500/500\u001b[0m \u001b[32m━━━━━━━━━━━━━━━━━━━━\u001b[0m\u001b[37m\u001b[0m \u001b[1m2s\u001b[0m 4ms/step - accuracy: 0.6322 - loss: 0.6256 - val_accuracy: 0.7393 - val_loss: 0.5658\n",
      "Epoch 9/50\n",
      "\u001b[1m500/500\u001b[0m \u001b[32m━━━━━━━━━━━━━━━━━━━━\u001b[0m\u001b[37m\u001b[0m \u001b[1m2s\u001b[0m 4ms/step - accuracy: 0.6359 - loss: 0.6201 - val_accuracy: 0.7394 - val_loss: 0.5673\n",
      "Epoch 10/50\n",
      "\u001b[1m500/500\u001b[0m \u001b[32m━━━━━━━━━━━━━━━━━━━━\u001b[0m\u001b[37m\u001b[0m \u001b[1m3s\u001b[0m 6ms/step - accuracy: 0.6367 - loss: 0.6240 - val_accuracy: 0.7370 - val_loss: 0.5717\n",
      "Epoch 11/50\n",
      "\u001b[1m500/500\u001b[0m \u001b[32m━━━━━━━━━━━━━━━━━━━━\u001b[0m\u001b[37m\u001b[0m \u001b[1m3s\u001b[0m 5ms/step - accuracy: 0.6301 - loss: 0.6234 - val_accuracy: 0.7395 - val_loss: 0.5671\n"
     ]
    },
    {
     "name": "stderr",
     "output_type": "stream",
     "text": [
      "C:\\Users\\kkasp\\anaconda3\\envs\\Text_mining\\Lib\\site-packages\\keras\\src\\layers\\core\\dense.py:87: UserWarning: Do not pass an `input_shape`/`input_dim` argument to a layer. When using Sequential models, prefer using an `Input(shape)` object as the first layer in the model instead.\n",
      "  super().__init__(activity_regularizer=activity_regularizer, **kwargs)\n"
     ]
    },
    {
     "name": "stdout",
     "output_type": "stream",
     "text": [
      "Epoch 1/50\n",
      "\u001b[1m500/500\u001b[0m \u001b[32m━━━━━━━━━━━━━━━━━━━━\u001b[0m\u001b[37m\u001b[0m \u001b[1m6s\u001b[0m 4ms/step - accuracy: 0.7109 - loss: 0.5527 - val_accuracy: 0.8504 - val_loss: 0.3483\n",
      "Epoch 2/50\n",
      "\u001b[1m500/500\u001b[0m \u001b[32m━━━━━━━━━━━━━━━━━━━━\u001b[0m\u001b[37m\u001b[0m \u001b[1m3s\u001b[0m 6ms/step - accuracy: 0.8375 - loss: 0.3813 - val_accuracy: 0.8687 - val_loss: 0.3190\n",
      "Epoch 3/50\n",
      "\u001b[1m500/500\u001b[0m \u001b[32m━━━━━━━━━━━━━━━━━━━━\u001b[0m\u001b[37m\u001b[0m \u001b[1m2s\u001b[0m 4ms/step - accuracy: 0.8482 - loss: 0.3601 - val_accuracy: 0.8668 - val_loss: 0.3109\n",
      "Epoch 4/50\n",
      "\u001b[1m500/500\u001b[0m \u001b[32m━━━━━━━━━━━━━━━━━━━━\u001b[0m\u001b[37m\u001b[0m \u001b[1m3s\u001b[0m 5ms/step - accuracy: 0.8576 - loss: 0.3459 - val_accuracy: 0.8733 - val_loss: 0.3079\n",
      "Epoch 5/50\n",
      "\u001b[1m500/500\u001b[0m \u001b[32m━━━━━━━━━━━━━━━━━━━━\u001b[0m\u001b[37m\u001b[0m \u001b[1m2s\u001b[0m 4ms/step - accuracy: 0.8642 - loss: 0.3314 - val_accuracy: 0.8735 - val_loss: 0.3038\n",
      "Epoch 6/50\n",
      "\u001b[1m500/500\u001b[0m \u001b[32m━━━━━━━━━━━━━━━━━━━━\u001b[0m\u001b[37m\u001b[0m \u001b[1m2s\u001b[0m 4ms/step - accuracy: 0.8589 - loss: 0.3350 - val_accuracy: 0.8742 - val_loss: 0.3036\n",
      "Epoch 7/50\n",
      "\u001b[1m500/500\u001b[0m \u001b[32m━━━━━━━━━━━━━━━━━━━━\u001b[0m\u001b[37m\u001b[0m \u001b[1m2s\u001b[0m 3ms/step - accuracy: 0.8651 - loss: 0.3248 - val_accuracy: 0.8751 - val_loss: 0.3010\n",
      "Epoch 8/50\n",
      "\u001b[1m500/500\u001b[0m \u001b[32m━━━━━━━━━━━━━━━━━━━━\u001b[0m\u001b[37m\u001b[0m \u001b[1m2s\u001b[0m 3ms/step - accuracy: 0.8638 - loss: 0.3288 - val_accuracy: 0.8773 - val_loss: 0.2951\n",
      "Epoch 9/50\n",
      "\u001b[1m500/500\u001b[0m \u001b[32m━━━━━━━━━━━━━━━━━━━━\u001b[0m\u001b[37m\u001b[0m \u001b[1m2s\u001b[0m 3ms/step - accuracy: 0.8656 - loss: 0.3251 - val_accuracy: 0.8775 - val_loss: 0.2997\n",
      "Epoch 10/50\n",
      "\u001b[1m500/500\u001b[0m \u001b[32m━━━━━━━━━━━━━━━━━━━━\u001b[0m\u001b[37m\u001b[0m \u001b[1m2s\u001b[0m 4ms/step - accuracy: 0.8652 - loss: 0.3271 - val_accuracy: 0.8694 - val_loss: 0.2986\n",
      "Epoch 11/50\n",
      "\u001b[1m500/500\u001b[0m \u001b[32m━━━━━━━━━━━━━━━━━━━━\u001b[0m\u001b[37m\u001b[0m \u001b[1m2s\u001b[0m 4ms/step - accuracy: 0.8657 - loss: 0.3187 - val_accuracy: 0.8794 - val_loss: 0.2949\n",
      "Epoch 12/50\n",
      "\u001b[1m500/500\u001b[0m \u001b[32m━━━━━━━━━━━━━━━━━━━━\u001b[0m\u001b[37m\u001b[0m \u001b[1m2s\u001b[0m 4ms/step - accuracy: 0.8665 - loss: 0.3232 - val_accuracy: 0.8730 - val_loss: 0.2996\n",
      "Epoch 13/50\n",
      "\u001b[1m500/500\u001b[0m \u001b[32m━━━━━━━━━━━━━━━━━━━━\u001b[0m\u001b[37m\u001b[0m \u001b[1m2s\u001b[0m 4ms/step - accuracy: 0.8658 - loss: 0.3178 - val_accuracy: 0.8767 - val_loss: 0.2970\n",
      "Epoch 14/50\n",
      "\u001b[1m500/500\u001b[0m \u001b[32m━━━━━━━━━━━━━━━━━━━━\u001b[0m\u001b[37m\u001b[0m \u001b[1m2s\u001b[0m 3ms/step - accuracy: 0.8657 - loss: 0.3226 - val_accuracy: 0.8766 - val_loss: 0.2960\n"
     ]
    }
   ],
   "source": [
    "def prepare_data(choice, data, cols, model):\n",
    "    if choice[\"Embedding\"] == 1:\n",
    "      data[\"Embedded Data\"] = data[\"Stem Words\"].apply(lambda x : transform_review_to_vector(x, model))\n",
    "      df_embeddings = pd.DataFrame(data['Embedded Data'].tolist(), index=data.index)\n",
    "    else:\n",
    "      df_embeddings = pd.DataFrame()\n",
    "\n",
    "    if choice[\"Features\"] == 1:\n",
    "      df_features = data[cols]\n",
    "    else:\n",
    "      df_features = pd.DataFrame()\n",
    "\n",
    "    final_df = pd.concat([df_embeddings, df_features], axis=1)\n",
    "    return final_df.to_numpy()\n",
    "#Feedforward Neural Network (FNN)\n",
    "choice_params = [{\"Embedding\" : 1, \"Features\" : 0}, {\"Embedding\" : 0, \"Features\" : 1}, {\"Embedding\" : 1, \"Features\" : 1}]\n",
    "network_sizes = {(0, 1): (8, 4, 2)} #if we only use the features (and not the embedding), we have a smaller model\n",
    "results = {}\n",
    "for option in choice_params:\n",
    "  X_train_opt = prepare_data(option, X_train, cols, model)\n",
    "  X_val_opt = prepare_data(option, X_val, cols, model)\n",
    "  X_test_opt = prepare_data(option, X_test, cols, model)\n",
    "\n",
    "\n",
    "  # Input size depends on your feature representation (e.g., TF-IDF size or embedding size)\n",
    "  input_dim = X_train_opt.shape[1]\n",
    "  tuple_option = (option[\"Embedding\"], option[\"Features\"])\n",
    "  if tuple_option in network_sizes.keys():\n",
    "      # Define the FNN\n",
    "    fnn = Sequential([\n",
    "      Dense(network_sizes[tuple_option][0], activation='relu', input_shape=(input_dim,)),  # Input layer\n",
    "      Dropout(0.5),  # Dropout for regularization\n",
    "      Dense(network_sizes[tuple_option][1], activation='relu'),  # Hidden layer\n",
    "      Dropout(0.4),\n",
    "      Dense(network_sizes[tuple_option][2], activation = 'relu'),\n",
    "      Dropout(0.3),\n",
    "      Dense(1, activation='sigmoid')  # Output layer for binary classification\n",
    "      ])\n",
    "  else:\n",
    "    fnn = Sequential([\n",
    "      Dense(128, activation='relu', input_shape=(input_dim,)),  # Input layer\n",
    "      Dropout(0.5),  # Dropout for regularization\n",
    "      Dense(64, activation='relu'),  # Hidden layer\n",
    "      Dropout(0.4),\n",
    "      Dense(32, activation = 'relu'),\n",
    "      Dropout(0.3),\n",
    "      Dense(1, activation='sigmoid')  # Output layer for binary classification\n",
    "      ])\n",
    "\n",
    "\n",
    "\n",
    "      # Compile the model\n",
    "  fnn.compile(optimizer='adam', loss='binary_crossentropy', metrics=['accuracy'])\n",
    "\n",
    "  early_stopping = EarlyStopping(monitor='val_loss', patience=3, restore_best_weights=True)\n",
    "  history = fnn.fit(X_train_opt, y_train, validation_data=(X_val_opt, y_val), batch_size = 64, epochs=50, callbacks=[early_stopping])\n",
    "  last_val_accuracy = history.history['val_accuracy'][-1]\n",
    "  results[tuple_option] = last_val_accuracy"
   ]
  },
  {
   "cell_type": "code",
   "execution_count": 32,
   "metadata": {},
   "outputs": [
    {
     "data": {
      "text/plain": [
       "{(1, 0): 0.8733749985694885,\n",
       " (0, 1): 0.7394999861717224,\n",
       " (1, 1): 0.8766250014305115}"
      ]
     },
     "execution_count": 32,
     "metadata": {},
     "output_type": "execute_result"
    }
   ],
   "source": [
    "results"
   ]
  },
  {
   "cell_type": "markdown",
   "metadata": {},
   "source": [
    "(1, 0): The model is trained using only embeddings and achieves an accuracy of approximately 87.34%.\n",
    "\n",
    "(0, 1): The model uses only the predefined feature columns and achieves an accuracy of approximately 73.95%.\n",
    "\n",
    "(1, 1): The model combines both embeddings and feature columns and achieves an accuracy of approximately 87.66%.\n",
    "\n",
    "The difference between the model with only embeddings and the model with embeddings and feature columns is rather small. However, the latter model performs best."
   ]
  },
  {
   "cell_type": "markdown",
   "metadata": {},
   "source": [
    "## 5. Results"
   ]
  },
  {
   "cell_type": "code",
   "execution_count": 33,
   "metadata": {
    "id": "Vz5LAXJk1_Id"
   },
   "outputs": [],
   "source": [
    "from sklearn.metrics import precision_score, recall_score, f1_score"
   ]
  },
  {
   "cell_type": "code",
   "execution_count": 34,
   "metadata": {},
   "outputs": [
    {
     "name": "stdout",
     "output_type": "stream",
     "text": [
      "\u001b[1m313/313\u001b[0m \u001b[32m━━━━━━━━━━━━━━━━━━━━\u001b[0m\u001b[37m\u001b[0m \u001b[1m1s\u001b[0m 2ms/step\n",
      "Precision: 0.8743728677503512\n",
      "Recall: 0.8646556856519151\n",
      "F1 Score: 0.869487128317701\n"
     ]
    }
   ],
   "source": [
    "y_pred_probs = fnn.predict(X_test_opt)  # Predicted probabilities\n",
    "y_pred = (y_pred_probs > 0.5).astype(int)  # Convert probabilities to binary labels (0 or 1)\n",
    "\n",
    "# Calculate precision, recall, and F1-score\n",
    "precision = precision_score(y_test, y_pred)\n",
    "recall = recall_score(y_test, y_pred)\n",
    "f1 = f1_score(y_test, y_pred)\n",
    "\n",
    "# Print evaluation metrics\n",
    "print(\"Precision:\", precision)\n",
    "print(\"Recall:\", recall)\n",
    "print(\"F1 Score:\", f1)"
   ]
  },
  {
   "cell_type": "markdown",
   "metadata": {},
   "source": [
    "We achieve a precision of 87.44%, a recall score of 86.47% and an F1 score of 86.95%. These high scores indicate our model is quite strong in predicting the sentiment of reviews based on the review text."
   ]
  }
 ],
 "metadata": {
  "colab": {
   "provenance": []
  },
  "kernelspec": {
   "display_name": "Python 3 (ipykernel)",
   "language": "python",
   "name": "python3"
  },
  "language_info": {
   "codemirror_mode": {
    "name": "ipython",
    "version": 3
   },
   "file_extension": ".py",
   "mimetype": "text/x-python",
   "name": "python",
   "nbconvert_exporter": "python",
   "pygments_lexer": "ipython3",
   "version": "3.12.7"
  }
 },
 "nbformat": 4,
 "nbformat_minor": 4
}
