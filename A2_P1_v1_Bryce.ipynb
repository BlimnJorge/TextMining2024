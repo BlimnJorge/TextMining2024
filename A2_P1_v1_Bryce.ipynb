{
 "cells": [
  {
   "cell_type": "markdown",
   "metadata": {},
   "source": [
    "### Assignment 2"
   ]
  },
  {
   "cell_type": "code",
   "execution_count": 12,
   "metadata": {},
   "outputs": [],
   "source": [
    "import pandas as pd\n",
    "from sklearn.model_selection import train_test_split\n",
    "import numpy as np\n",
    "import matplotlib.pyplot as plt\n",
    "import re\n",
    "from nltk.corpus import stopwords\n",
    "from nltk.stem import PorterStemmer\n",
    "import nltk"
   ]
  },
  {
   "cell_type": "code",
   "execution_count": 3,
   "metadata": {},
   "outputs": [
    {
     "name": "stdout",
     "output_type": "stream",
     "text": [
      "                                               review sentiment\n",
      "0   One of the other reviewers has mentioned that ...  positive\n",
      "1   A wonderful little production. <br /><br />The...  positive\n",
      "2   I thought this was a wonderful way to spend ti...  positive\n",
      "3   Basically there's a family where a little boy ...  negative\n",
      "4   Petter Mattei's \"Love in the Time of Money\" is...  positive\n",
      "5   Probably my all-time favorite movie, a story o...  positive\n",
      "6   I sure would like to see a resurrection of a u...  positive\n",
      "7   This show was an amazing, fresh & innovative i...  negative\n",
      "8   Encouraged by the positive comments about this...  negative\n",
      "9   If you like original gut wrenching laughter yo...  positive\n",
      "10  Phil the Alien is one of those quirky films wh...  negative\n",
      "11  I saw this movie when I was about 12 when it c...  negative\n",
      "12  So im not a big fan of Boll's work but then ag...  negative\n",
      "13  The cast played Shakespeare.<br /><br />Shakes...  negative\n",
      "14  This a fantastic movie of three prisoners who ...  positive\n",
      "15  Kind of drawn in by the erotic scenes, only to...  negative\n",
      "16  Some films just simply should not be remade. T...  positive\n",
      "17  This movie made it into one of my top 10 most ...  negative\n",
      "18  I remember this film,it was the first film i h...  positive\n",
      "19  An awful film! It must have been up against so...  negative\n"
     ]
    }
   ],
   "source": [
    "file_path = r'C:\\Users\\bryce\\Documents\\@ Education\\KUL\\Year 3 Semester 1\\Text Mining\\Assignment 2\\IMDB_Dataset.csv'\n",
    "data = pd.read_csv(file_path)\n",
    "print(data.head(20))\n"
   ]
  },
  {
   "cell_type": "code",
   "execution_count": 4,
   "metadata": {},
   "outputs": [
    {
     "name": "stdout",
     "output_type": "stream",
     "text": [
      "Training Data Size: 40000\n",
      "Validation Data Size: 10000\n"
     ]
    }
   ],
   "source": [
    "# Data split (80% training, 20% validation)\n",
    "train_data, val_data = train_test_split(data, test_size=0.2, random_state=42)\n",
    "\n",
    "# Display the sizes of the datasets\n",
    "print(\"Training Data Size:\", len(train_data))\n",
    "print(\"Validation Data Size:\", len(val_data))"
   ]
  },
  {
   "cell_type": "code",
   "execution_count": 5,
   "metadata": {},
   "outputs": [
    {
     "name": "stdout",
     "output_type": "stream",
     "text": [
      "First 100 Characters of Each Review:\n",
      "39087    That's what I kept asking myself during the ma...\n",
      "30893    I did not watch the entire movie. I could not ...\n",
      "45278    A touching love story reminiscent of In the M...\n",
      "16398    This latter-day Fulci schlocker is a totally a...\n",
      "13653    First of all, I firmly believe that Norwegian ...\n",
      "                               ...                        \n",
      "11284    `Shadow Magic' recaptures the joy and amazemen...\n",
      "44732    I found this movie to be quite enjoyable and f...\n",
      "38158    Avoid this one! It is a terrible movie. So wha...\n",
      "860      This production was quite a surprise for me. I...\n",
      "15795    This is a decent movie. Although little bit sh...\n",
      "Name: review, Length: 40000, dtype: object\n"
     ]
    }
   ],
   "source": [
    "# What are these reviews?\n",
    "print(\"First 100 Characters of Each Review:\")\n",
    "print(train_data['review'])"
   ]
  },
  {
   "cell_type": "markdown",
   "metadata": {},
   "source": [
    "##### Text pre-processing"
   ]
  },
  {
   "cell_type": "code",
   "execution_count": 14,
   "metadata": {},
   "outputs": [
    {
     "name": "stdout",
     "output_type": "stream",
     "text": [
      "Cleaned Reviews with Stopwords Removed and Stemming Applied:\n",
      "39087    that kept ask mani fight scream match swear ge...\n",
      "30893    watch entir movi could watch entir movi stop d...\n",
      "45278    touch love stori reminisc mood love draw heavi...\n",
      "16398    latterday fulci schlocker total abysm concoct ...\n",
      "13653    first firmli believ norwegian movi continu get...\n",
      "13748    dont know movi receiv mani posit review site i...\n",
      "23965    nightmar weekend star cast ridicul actor even ...\n",
      "45552    spoiler alertbr br soooo arni realli good guy ...\n",
      "30219    peopl badmouth film dont understand film begin...\n",
      "24079    br br usual realli look forward new tvfilm fav...\n",
      "12181    enjoy feel open minut 20minut liber appli fast...\n",
      "21848    movi bad cheap corni found movi one bore slow ...\n",
      "14290    miniseri dvd love stori much one best period p...\n",
      "24755    elvira mistress dark 1988br br direct jame sig...\n",
      "35013    absolut knowledg author phillipa pearc novel t...\n",
      "15361    movi attempt far smarter maker capabl produc m...\n",
      "48038    consid teen film like breakfast club pretti pi...\n",
      "36311    br br ok well rent movi bed ridden hop pain ki...\n",
      "30239    recent histori hollywood remak ghosthorror fil...\n",
      "7195     want se film sinc first time watch trailer dee...\n",
      "Name: cleaned_review, dtype: object\n"
     ]
    }
   ],
   "source": [
    "def clean_text(text):\n",
    "    # Remove unusual or non-ASCII characters\n",
    "    text = re.sub(r'[^\\x00-\\x7F]+', '', text)\n",
    "    \n",
    "    # Remove punctuation\n",
    "    text = re.sub(r'[^\\w\\s]', '', text)\n",
    "    \n",
    "    # Remove extra spaces\n",
    "    text = re.sub(r'\\s+', ' ', text).strip()\n",
    "    \n",
    "    # Tokenize the text into words for processing\n",
    "    words = text.split()\n",
    "    \n",
    "    # Remove stopwords\n",
    "    stop_words = set(stopwords.words('english'))\n",
    "    filtered_words = [word for word in words if word.lower() not in stop_words]\n",
    "    \n",
    "    # Apply stemming\n",
    "    stemmer = PorterStemmer()\n",
    "    stemmed_words = [stemmer.stem(word) for word in filtered_words]\n",
    "    \n",
    "    # Rejoin the stemmed words into a single string\n",
    "    text = ' '.join(stemmed_words)\n",
    "    \n",
    "    return text\n",
    "\n",
    "train_data['cleaned_review'] = train_data['review'].apply(clean_text)\n",
    "\n",
    "# Display the first few cleaned reviews\n",
    "print(\"Cleaned Reviews with Stopwords Removed and Stemming Applied:\")\n",
    "print(train_data['cleaned_review'].head(20))"
   ]
  },
  {
   "cell_type": "markdown",
   "metadata": {},
   "source": []
  }
 ],
 "metadata": {
  "kernelspec": {
   "display_name": "Python 3",
   "language": "python",
   "name": "python3"
  },
  "language_info": {
   "codemirror_mode": {
    "name": "ipython",
    "version": 3
   },
   "file_extension": ".py",
   "mimetype": "text/x-python",
   "name": "python",
   "nbconvert_exporter": "python",
   "pygments_lexer": "ipython3",
   "version": "3.12.0"
  }
 },
 "nbformat": 4,
 "nbformat_minor": 2
}
